
{
 "cells": [
  {
   "cell_type": "markdown",
   "metadata": {},
   
   "source": [
    "[![Script](https://acm.im/bristlecone//img/badge-script.svg)](https://acm.im/bristlecone//model.fsx)\u0026emsp;\n",
    "[![Notebook](https://acm.im/bristlecone//img/badge-notebook.svg)](https://acm.im/bristlecone//model.ipynb)\n",
    "\n"
   ]
  }
,
  {
   "cell_type": "code",
   "metadata": {
    "dotnet_interactive": {
     "language": "fsharp"
    },
    "polyglot_notebook": {
     "kernelName": "fsharp"
    }
   },
   "execution_count": null, "outputs": [],
   "source": [
    "#r \"nuget: Bristlecone,2.0.0\"\n"
   ]
  }
,
  {
   "cell_type": "markdown",
   "metadata": {},
   
   "source": [
    "# Defining a Hypothesis (or Model System)\n",
    "\n",
    "In Bristlecone, a `ModelSystem` represents combination\n",
    "of mathematical models and their estimatable parameters\n",
    "that can be used within model-fitting and model-selection.\n",
    "A `ModelSystem` is defined by:\n",
    "\n",
    "* at least one equation;\n",
    "\n",
    "* at least one parameter to estimate;\n",
    "\n",
    "* a likelihood function; and\n",
    "\n",
    "* optionally, measurement equations.\n",
    "\n",
    "To build a `ModelSystem`, first open the Bristlecone language:\n",
    "\n"
   ]
  }
,
  {
   "cell_type": "code",
   "metadata": {
    "dotnet_interactive": {
     "language": "fsharp"
    },
    "polyglot_notebook": {
     "kernelName": "fsharp"
    }
   },
   "execution_count": 2, "outputs": [],
   "source": [
    "open Bristlecone // Opens Bristlecone core library and estimation engine\n",
    "open Bristlecone.Language // Open the language for writing Bristlecone models\n"
   ]
  }
,
  {
   "cell_type": "markdown",
   "metadata": {},
   
   "source": [
    "Second, define the parts of your hypothesis. In this example,\n",
    "we will define a simple model of population growth:\n",
    "\n",
    "**Note: refer to the section on [writing models](language.html) for help writing\n",
    "Bristlecone expressions.**\n",
    "\n"
   ]
  }
,
  {
   "cell_type": "code",
   "metadata": {
    "dotnet_interactive": {
     "language": "fsharp"
    },
    "polyglot_notebook": {
     "kernelName": "fsharp"
    }
   },
   "execution_count": 3, "outputs": [],
   "source": [
    "let ``dN/dt`` = Parameter \"r\" * This * (Constant 1. - (This / Parameter \"K\"))\n"
   ]
  }
,
  {
   "cell_type": "markdown",
   "metadata": {},
   
   "source": [
    "From the above code, our model is compiled into the following internal representation:\n",
    "\n",
    "```\n",
    "Multiply\n",
    "  [Multiply [Parameter \"r\"; This];\n",
    "   Subtract (Constant 1.0, Divide (This, Parameter \"K\"))]\n",
    "```\n",
    "\n",
    "Our model of the change in **N** (population count) over time has two estimatable parameters defined using the `Parameter` term,\n",
    "which are **r** (the intrinsic growth rate of the population)\n",
    "and **K** (the carrying capacity of the population).\n",
    "\n",
    "Next, we need to create our `ModelSystem` by using the helper functions\n",
    "that can be found under `Model.*`.\n",
    "\n",
    "In this example, we will use a sum-of-squares measure to determine\n",
    "the goodness-of-fit rather than a likelihood function. A selection of\n",
    "likelihood functions, including sum-of-squares functions, are included\n",
    "in Bristlecone within the `ModelLibrary` module.\n",
    "\n",
    "The `ModelSystem` can be created with forward pipes (`|\u003e`) as follows:\n",
    "\n"
   ]
  }
,
  {
   "cell_type": "code",
   "metadata": {
    "dotnet_interactive": {
     "language": "fsharp"
    },
    "polyglot_notebook": {
     "kernelName": "fsharp"
    }
   },
   "execution_count": 5, "outputs": [],
   "source": [
    "let hypothesis =\n",
    "    Model.empty\n",
    "    |\u003e Model.addEquation \"N\" ``dN/dt``\n",
    "    |\u003e Model.estimateParameter \"r\" noConstraints 0.10 5.00\n",
    "    |\u003e Model.estimateParameter \"K\" noConstraints 50.0 150.\n",
    "    |\u003e Model.useLikelihoodFunction (ModelLibrary.Likelihood.sumOfSquares [ \"N\" ])\n",
    "    |\u003e Model.compile\n"
   ]
  }
,
  {
   "cell_type": "markdown",
   "metadata": {},
   
   "source": [
    "In the above code, we first start with an empty model system,\n",
    "`Model.empty`. We then add each component with a short code to\n",
    "represent it, and finally call `Model.compile`. The `Model.compile`\n",
    "function checks the validity of the model in terms of duplicate short codes,\n",
    "making sure all parameters are set to be estimated, and that all the\n",
    "required parts are in place.\n",
    "\n",
    "Let\u0027s look at defining the estimatable parameters in more detail:\n",
    "\n"
   ]
  }
,
  {
   "cell_type": "code",
   "metadata": {
    "dotnet_interactive": {
     "language": "fsharp"
    },
    "polyglot_notebook": {
     "kernelName": "fsharp"
    }
   },
   "execution_count": 6, "outputs": [],
   "source": [
    "Model.estimateParameter \"r\" noConstraints 0.10 5.00\n"
   ]
  }
,
  {
   "cell_type": "markdown",
   "metadata": {},
   
   "source": [
    "For the `Model.estimateParameter` function, first pass\n",
    "the short code as you have used it in your above model expressions.\n",
    "Next, you must pass the constraint mode. In Bristlecone, although\n",
    "the optimisation algorithms are **unconstrained**, it is possible\n",
    "to constrain parameters to specific values using transformations. These\n",
    "are applied automatically within the model-fitting process. Two available\n",
    "options are `noConstaints`, which is unconstrained, and `positiveOnly`, which\n",
    "prevents the value of that parameter dropping below zero. The last\n",
    "arguments are two numbers representing a lower and upper bound\n",
    "from which to draw an initial starting value for the parameter.\n",
    "The starting value is drawn from a continuous uniform distribution,\n",
    "using a `Random` that you define in the `EstimationEngine` (see [estimating](estimation-engine.html)).\n",
    "\n"
   ]
  }
 ],
 "metadata": {
  "kernelspec": {
   "display_name": ".NET (F#)",
   "language": "F#",
   "name": ".net-fsharp"
  },
  "language_info": {
   "file_extension": ".fs",
   "mimetype": "text/x-fsharp",
   "name": "polyglot-notebook",
   "pygments_lexer": "fsharp"
  },
  "polyglot_notebook": {
   "kernelInfo": {
    "defaultKernelName": "fsharp",
    "items": [
     {
      "aliases": [],
      "languageName": "fsharp",
      "name": "fsharp"
     }
    ]
   }
  }
 },
 "nbformat": 4,
 "nbformat_minor": 2
}

