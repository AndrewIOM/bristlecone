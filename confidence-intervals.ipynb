
{
 "cells": [
  {
   "cell_type": "markdown",
   "metadata": {},
   
   "source": [
    
   ]
  }
,
  {
   "cell_type": "code",
   "metadata": {
    "dotnet_interactive": {
     "language": "fsharp"
    },
    "polyglot_notebook": {
     "kernelName": "fsharp"
    }
   },
   "execution_count": null, "outputs": [],
   "source": [
    "#r \"nuget: Bristlecone,2.0.0\"\n"
   ]
  }
,
  {
   "cell_type": "markdown",
   "metadata": {},
   
   "source": [
    "# Calculating Confidence Intervals\n",
    "\n",
    "Bristlecone includes functions to calculate confidence intervals based\n",
    "on a profile likelihood method. Given the minimum -log likelihood, the\n",
    "profile likelihood method samples the parameter space around this point.\n",
    "The range sampled for each parameter is discovered at 95% and 68%\n",
    "confidence based on a chi squared distribution.\n",
    "\n",
    "These functions are included in the `Bristlecone.Optimisation.ConfidenceInterval` module.\n",
    "An example of their use is given below:\n",
    "\n"
   ]
  }
,
  {
   "cell_type": "code",
   "metadata": {
    "dotnet_interactive": {
     "language": "fsharp"
    },
    "polyglot_notebook": {
     "kernelName": "fsharp"
    }
   },
   "execution_count": 2, "outputs": [],
   "source": [
    "open Bristlecone\n",
    "open Bristlecone.Optimisation\n",
    "open Bristlecone.Data\n",
    "\n",
    "fun engine dataset hypothesis result -\u003e\n",
    "\n",
    "    // The function used to fit the model, which unless an\n",
    "    // advanced scenario is usually Bristlecone.fit\n",
    "    let fitFn = Bristlecone.fit\n",
    "\n",
    "    // The number of jumps to perform in parameter space\n",
    "    let n = 10000\n",
    "\n",
    "    let ci =\n",
    "        Confidence.ProfileLikelihood.profile fitFn engine dataset hypothesis n result\n",
    "\n",
    "    // Optionally, save the result\n",
    "    let saveDir = \"/some/save/dir\"\n",
    "    let subjectName = \"some subject\"\n",
    "    let modelId = \"some model hypothesis\"\n",
    "    Confidence.save saveDir subjectName modelId result.ResultId ci\n"
   ]
  }
 ],
 "metadata": {
  "kernelspec": {
   "display_name": ".NET (F#)",
   "language": "F#",
   "name": ".net-fsharp"
  },
  "language_info": {
   "file_extension": ".fs",
   "mimetype": "text/x-fsharp",
   "name": "polyglot-notebook",
   "pygments_lexer": "fsharp"
  },
  "polyglot_notebook": {
   "kernelInfo": {
    "defaultKernelName": "fsharp",
    "items": [
     {
      "aliases": [],
      "languageName": "fsharp",
      "name": "fsharp"
     }
    ]
   }
  }
 },
 "nbformat": 4,
 "nbformat_minor": 2
}

