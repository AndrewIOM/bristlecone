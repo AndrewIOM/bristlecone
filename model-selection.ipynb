
{
 "cells": [
  {
   "cell_type": "markdown",
   "metadata": {},
   
   "source": [
    "[![Script](https://acm.im/bristlecone//img/badge-script.svg)](https://acm.im/bristlecone//model-selection.fsx)\u0026emsp;\n",
    "[![Notebook](https://acm.im/bristlecone//img/badge-notebook.svg)](https://acm.im/bristlecone//model-selection.ipynb)\n",
    "\n"
   ]
  }
,
  {
   "cell_type": "code",
   "metadata": {
    "dotnet_interactive": {
     "language": "fsharp"
    },
    "polyglot_notebook": {
     "kernelName": "fsharp"
    }
   },
   "execution_count": null, "outputs": [],
   "source": [
    "#r \"nuget: Bristlecone,2.0.0\"\n"
   ]
  }
,
  {
   "cell_type": "markdown",
   "metadata": {},
   
   "source": [
    "# Model Selection\n",
    "\n",
    "Through **Model Selection**, alternative model hypothesis results are\n",
    "competed to determine which hypothesis is best explained by the underlying\n",
    "data. Before conducting model selection, you should be familiar with the benefits\n",
    "and limitations of alternative model selection statistics.\n",
    "\n",
    "### Akaike Weights\n",
    "\n",
    "To calculate Akaike weights for a set of hypotheses, you must first obtain\n",
    "your results by either loading in saved result files, or running models directly.\n",
    "Once you have obtained your results, weights can be saved after calculation\n",
    "by using the functions within the `Bristlecone.Data` namespace.\n",
    "\n",
    "The `ModelSelection.save` function takes a sequence of tuples of four values: the subject\u0027s ID,\n",
    "the model or hypothesis ID, the estimated result, and the Akaike weight for that result. In the\n",
    "below example, we do some wrangling to get the weights into the correct format for saving:\n",
    "\n"
   ]
  }
,
  {
   "cell_type": "code",
   "metadata": {
    "dotnet_interactive": {
     "language": "fsharp"
    },
    "polyglot_notebook": {
     "kernelName": "fsharp"
    }
   },
   "execution_count": 2, "outputs": [],
   "source": [
    "open Bristlecone\n",
    "\n",
    "fun modelResults subjectIds hypothesisIds -\u003e\n",
    "    modelResults\n",
    "    |\u003e ModelSelection.Akaike.akaikeWeights\n",
    "    |\u003e Seq.zip3 subjectIds hypothesisIds\n",
    "    |\u003e Seq.map (fun (s, h, (a, b)) -\u003e (s, h, a, b))\n",
    "    |\u003e Bristlecone.Data.ModelSelection.save \"/some/dir\"\n"
   ]
  }
,
  {
   "cell_type": "markdown",
   "metadata": {},
   
   "source": [
    "If you are working with `ResultSet`s, calculating and saving the weights is easier, and can\n",
    "be completed as below:\n",
    "\n"
   ]
  }
,
  {
   "cell_type": "code",
   "metadata": {
    "dotnet_interactive": {
     "language": "fsharp"
    },
    "polyglot_notebook": {
     "kernelName": "fsharp"
    }
   },
   "execution_count": 3, "outputs": [],
   "source": [
    "fun (hypothesisResults: ModelSelection.ResultSet.ResultSet\u003cstring, Language.Hypotheses.Hypothesis\u003e seq) -\u003e\n",
    "    hypothesisResults\n",
    "    |\u003e ModelSelection.Akaike.akaikeWeightsForSet (fun h -\u003e h.ReferenceCode)\n",
    "    |\u003e Bristlecone.Data.ModelSelection.save \"/some/dir\"\n"
   ]
  }
 ],
 "metadata": {
  "kernelspec": {
   "display_name": ".NET (F#)",
   "language": "F#",
   "name": ".net-fsharp"
  },
  "language_info": {
   "file_extension": ".fs",
   "mimetype": "text/x-fsharp",
   "name": "polyglot-notebook",
   "pygments_lexer": "fsharp"
  },
  "polyglot_notebook": {
   "kernelInfo": {
    "defaultKernelName": "fsharp",
    "items": [
     {
      "aliases": [],
      "languageName": "fsharp",
      "name": "fsharp"
     }
    ]
   }
  }
 },
 "nbformat": 4,
 "nbformat_minor": 2
}

