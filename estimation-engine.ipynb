
{
 "cells": [
  {
   "cell_type": "markdown",
   "metadata": {},
   
   "source": [
    "[![Script](https://acm.im/bristlecone//img/badge-script.svg)](https://acm.im/bristlecone//estimation-engine.fsx)\u0026emsp;\n",
    "[![Notebook](https://acm.im/bristlecone//img/badge-notebook.svg)](https://acm.im/bristlecone//estimation-engine.ipynb)\n",
    "\n"
   ]
  }
,
  {
   "cell_type": "code",
   "metadata": {
    "dotnet_interactive": {
     "language": "fsharp"
    },
    "polyglot_notebook": {
     "kernelName": "fsharp"
    }
   },
   "execution_count": null, "outputs": [],
   "source": [
    "#r \"nuget: Bristlecone,2.0.0\"\n"
   ]
  }
,
  {
   "cell_type": "markdown",
   "metadata": {},
   
   "source": [
    "# Defining an Estimation Engine\n",
    "\n",
    "The **estimation engine** is the definition of the method\n",
    "through which model-fitting will take place, as defined\n",
    "by Bristlecone\u0027s `EstimationEngine` type. If you are\n",
    "competing multiple hypotheses, a single `EstimationEngine`\n",
    "will suffice for all model hypotheses.\n",
    "\n",
    "Forthcoming\n",
    "\n",
    "## Time Modes\n",
    "\n",
    "Bristlecone can run models in either discrete time, or continuous time. When running models in continuous time, an integration function is required:\n",
    "\n",
    "Currently only fixed timesteps are supported, but variable timestep support (e.g. for sediment core data) is planned.\n",
    "\n",
    "Two integration functions are included:\n",
    "\n",
    "Solver | Function | Description\n",
    "--- | --- | ---\n",
    "Runge-Kutta 4 (MathNet Numerics) | `Integration.MathNet.integrate` | A fourth-order Runge Kutta method to provide approximate solutions to ODE systems.\n",
    "Runge-Kutta 547M (Open Solving Library for ODEs - Microsoft Research) | `Integration.MsftOslo.integrate` | A method based on classic Runge-Kutta, but with automatic error and step size control. [See the documentation](https://www.microsoft.com/en-us/research/wp-content/uploads/2014/07/osloUserGuide.pdf).\n",
    "\n",
    "\n",
    "## Optimisation\n",
    "\n",
    "Bristlecone supports optimisation functions that have the following type signature:\n",
    "\n",
    "```fsharp\n",
    "type Optimise\u003c\u0027data\u003e = int -\u003e int -\u003e Domain -\u003e (\u0027data[] -\u003e \u0027data) -\u003e (\u0027data * \u0027data []) list\n",
    "```\n",
    "\n",
    "There are two optimsation techniques currently built-in:\n",
    "\n",
    "Method | Function | Description\n",
    "--- | --- | ---\n",
    "Amoeba (Nelder-Mead) | `Optimisation.Amoeba.solve` | A gradient-descent method.\n",
    "MCMC Random Walk | `Optimisation.MonteCarlo.randomWalk` | A method based on classic Runge-Kutta, but with automatic error and step size control. [See the documentation](https://www.microsoft.com/en-us/research/wp-content/uploads/2014/07/osloUserGuide.pdf).\n",
    "\n",
    "\n",
    "## Estimation Engines\n",
    "\n",
    "To use Bristlecone functions requires a configured `EstimationEngine`. The easiest way is with the helper functions within the `Bristlecone` module:\n",
    "\n",
    "Function | Type | Description\n",
    "--- | --- | ---\n",
    "`mkContinuous` | EstimationEngine | Default continuous engine\n",
    "`mkDiscrete` | EstimationEngine | Default discrete model engine\n",
    "`withContinuousTime` | t : Integrate\u003c\u0027a,\u0027b\u003e -\u0026gt; engine: EstimationEngine\u003c\u0027a,\u0027b\u003e -\u0026gt; EstimationEngine\u003c\u0027a,\u0027b\u003e | Transforms engine to continuous time mode, using the given integrator function.\n",
    "`withConditioning` | c: Conditioning -\u0026gt; engine: EstimationEngine\u003c\u0027a,\u0027b\u003e -\u0026gt; EstimationEngine\u003c\u0027a,\u0027b\u003e | Choose how the start point is chosen when solving the model system.\n",
    "\n",
    "\n",
    "*\n",
    "\n"
   ]
  }
 ],
 "metadata": {
  "kernelspec": {
   "display_name": ".NET (F#)",
   "language": "F#",
   "name": ".net-fsharp"
  },
  "language_info": {
   "file_extension": ".fs",
   "mimetype": "text/x-fsharp",
   "name": "polyglot-notebook",
   "pygments_lexer": "fsharp"
  },
  "polyglot_notebook": {
   "kernelInfo": {
    "defaultKernelName": "fsharp",
    "items": [
     {
      "aliases": [],
      "languageName": "fsharp",
      "name": "fsharp"
     }
    ]
   }
  }
 },
 "nbformat": 4,
 "nbformat_minor": 2
}

