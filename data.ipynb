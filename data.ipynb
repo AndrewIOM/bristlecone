
{
 "cells": [
  {
   "cell_type": "markdown",
   "metadata": {},
   
   "source": [
    "[![Script](https://acm.im/bristlecone//img/badge-script.svg)](https://acm.im/bristlecone//data.fsx)\u0026emsp;\n",
    "[![Notebook](https://acm.im/bristlecone//img/badge-notebook.svg)](https://acm.im/bristlecone//data.ipynb)\n",
    "\n"
   ]
  }
,
  {
   "cell_type": "code",
   "metadata": {
    "dotnet_interactive": {
     "language": "fsharp"
    },
    "polyglot_notebook": {
     "kernelName": "fsharp"
    }
   },
   "execution_count": null, "outputs": [],
   "source": [
    "#r \"nuget: Bristlecone,2.0.0\"\n"
   ]
  }
,
  {
   "cell_type": "markdown",
   "metadata": {},
   
   "source": [
    "# Loading and Saving Data\n",
    "\n",
    "The `Bristlecone.Data` namespace includes methods for saving Bristlecone\n",
    "results and diagnostics, and loading saved results for further analysis\n",
    "at a later date.\n",
    "\n",
    "### Individual estimations results\n",
    "\n",
    "#### The estimation result itself\n",
    "\n",
    "Saving and loading estimation results is conducted as follows:\n",
    "\n"
   ]
  }
,
  {
   "cell_type": "code",
   "metadata": {
    "dotnet_interactive": {
     "language": "fsharp"
    },
    "polyglot_notebook": {
     "kernelName": "fsharp"
    }
   },
   "execution_count": 2, "outputs": [],
   "source": [
    "open Bristlecone\n",
    "open Bristlecone.Data\n",
    "open Bristlecone.Language\n",
    "\n",
    "let resultsDirectory = \"/some/data/dir\"\n",
    "let thinTraceBy = Some 1000 // Only trace every n iterations to save disk space\n",
    "let subject = \"Mosquito population\" // The name of the \u0027subject\u0027 of analysis\n",
    "let modelName = \"Logistic growth\"\n",
    "\n",
    "fun result -\u003e EstimationResult.saveAll resultsDirectory subject modelName thinTraceBy result\n"
   ]
  }
,
  {
   "cell_type": "markdown",
   "metadata": {},
   
   "source": [
    "This save function outputs three files: one each for the maximum likelihood estimate,\n",
    "a trace of the optimisation process, and the estimated vs\n",
    "observed time series.\n",
    "\n",
    "#### Other statistics and estimates\n",
    "\n",
    "Some other Bristlecone functions have functions to load and save their outputs to CSV files.\n",
    "\n",
    "Save confidence intervals:\n",
    "\n"
   ]
  }
,
  {
   "cell_type": "code",
   "metadata": {
    "dotnet_interactive": {
     "language": "fsharp"
    },
    "polyglot_notebook": {
     "kernelName": "fsharp"
    }
   },
   "execution_count": 3, "outputs": [],
   "source": [
    "Bristlecone.Data.Confidence.save\n"
   ]
  }
,
  {
   "cell_type": "markdown",
   "metadata": {},
   
   "source": [
    "Save n-step ahead predictions made using `Bristlecone.oneStepAhead` and similar functions:\n",
    "\n"
   ]
  }
,
  {
   "cell_type": "code",
   "metadata": {
    "dotnet_interactive": {
     "language": "fsharp"
    },
    "polyglot_notebook": {
     "kernelName": "fsharp"
    }
   },
   "execution_count": 4, "outputs": [],
   "source": [
    "Bristlecone.Data.NStepAhead.save\n"
   ]
  }
,
  {
   "cell_type": "markdown",
   "metadata": {},
   
   "source": [
    "### Ensemble-level results\n",
    "\n",
    "Some processes, for example model-selection, work across many model results. Bristlecone\n",
    "includes loading and saving functions (to and from CSV files) for many of these procedures.\n",
    "\n",
    "#### Model-selection\n",
    "\n",
    "For model selection, you may calculate Akaike weights either from a sequence of `EstimationResult` (for simpler tasks)\n",
    "or from a sequence of `ResultSet` (for working with many hypotheses):\n",
    "\n"
   ]
  }
,
  {
   "cell_type": "code",
   "metadata": {
    "dotnet_interactive": {
     "language": "fsharp"
    },
    "polyglot_notebook": {
     "kernelName": "fsharp"
    }
   },
   "execution_count": 5, "outputs": [],
   "source": [
    "fun modelResults subjectIds hypothesisIds -\u003e\n",
    "    modelResults\n",
    "    |\u003e ModelSelection.Akaike.akaikeWeights\n",
    "    |\u003e Seq.zip3 subjectIds hypothesisIds\n",
    "    |\u003e Seq.map (fun (s, h, (a, b)) -\u003e (s, h, a, b))\n",
    "    |\u003e Bristlecone.Data.ModelSelection.save \"/some/dir\"\n",
    "\n",
    "fun (hypothesisResults: ModelSelection.ResultSet.ResultSet\u003cstring, Hypotheses.Hypothesis\u003e seq) -\u003e\n",
    "    hypothesisResults\n",
    "    |\u003e ModelSelection.Akaike.akaikeWeightsForSet (fun h -\u003e h.ReferenceCode)\n",
    "    |\u003e Bristlecone.Data.ModelSelection.save \"/some/dir\"\n"
   ]
  }
,
  {
   "cell_type": "markdown",
   "metadata": {},
   
   "source": [
    "#### Convergence of Monte-Carlo based optimisation approaches\n",
    "\n",
    "You can assess the convergence of multiple \u0027chains\u0027 between MCMC or Monte-Carlo based\n",
    "optimisation methods using the functions in the `Bristlecone.Diagnostics` namespace, such as\n",
    "the per-parameter R-hat values based on the optimisation trace.\n",
    "\n"
   ]
  }
,
  {
   "cell_type": "code",
   "metadata": {
    "dotnet_interactive": {
     "language": "fsharp"
    },
    "polyglot_notebook": {
     "kernelName": "fsharp"
    }
   },
   "execution_count": 6, "outputs": [],
   "source": [
    "// Given a set of results on a per-subject and per-hypothesis basis:\n",
    "fun resultSet -\u003e\n",
    "    resultSet\n",
    "    |\u003e Bristlecone.Diagnostics.Convergence.gelmanRubin 10000 \"some subject\" \"some hypothesis\"\n",
    "    |\u003e Option.iter (Bristlecone.Data.Convergence.save \"/some/dir\")\n"
   ]
  }
,
  {
   "cell_type": "markdown",
   "metadata": {},
   
   "source": [
    "#### Summarise Root Mean Squared Error for many hypotheses / subjects\n",
    "\n",
    "Given individual n-step ahead predictions made using `Bristlecone.oneStepAhead`\n",
    "and similar functions, you can save the resultant RMSE statistic (an indication\n",
    "of model performance) in a summary table across all hypotheses and subjects:\n",
    "\n"
   ]
  }
,
  {
   "cell_type": "code",
   "metadata": {
    "dotnet_interactive": {
     "language": "fsharp"
    },
    "polyglot_notebook": {
     "kernelName": "fsharp"
    }
   },
   "execution_count": 7, "outputs": [],
   "source": [
    "fun nStepFits -\u003e Bristlecone.Data.NStepAhead.saveAllRMSE \"/some/dir\" nStepFits\n"
   ]
  }
 ],
 "metadata": {
  "kernelspec": {
   "display_name": ".NET (F#)",
   "language": "F#",
   "name": ".net-fsharp"
  },
  "language_info": {
   "file_extension": ".fs",
   "mimetype": "text/x-fsharp",
   "name": "polyglot-notebook",
   "pygments_lexer": "fsharp"
  },
  "polyglot_notebook": {
   "kernelInfo": {
    "defaultKernelName": "fsharp",
    "items": [
     {
      "aliases": [],
      "languageName": "fsharp",
      "name": "fsharp"
     }
    ]
   }
  }
 },
 "nbformat": 4,
 "nbformat_minor": 2
}

