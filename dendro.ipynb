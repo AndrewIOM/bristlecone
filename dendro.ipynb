
{
 "cells": [
  {
   "cell_type": "markdown",
   "metadata": {},
   
   "source": [
    "[![Script](https://acm.im/bristlecone//img/badge-script.svg)](https://acm.im/bristlecone//dendro.fsx)\u0026emsp;\n",
    "[![Notebook](https://acm.im/bristlecone//img/badge-notebook.svg)](https://acm.im/bristlecone//dendro.ipynb)\n",
    "\n"
   ]
  }
,
  {
   "cell_type": "code",
   "metadata": {
    "dotnet_interactive": {
     "language": "fsharp"
    },
    "polyglot_notebook": {
     "kernelName": "fsharp"
    }
   },
   "execution_count": null, "outputs": [],
   "source": [
    "#r \"nuget: Bristlecone,2.0.0\"\n"
   ]
  }
,
  {
   "cell_type": "markdown",
   "metadata": {},
   
   "source": [
    "## Bristlecone as a tool in dendroecology\n",
    "\n",
    "Bristlecone has been developed and used for working with\n",
    "long-term ecological time-series, which includes wood ring\n",
    "proxy records.\n",
    "\n",
    "The `Bristlecone.Dendro` package contains additional functions\n",
    "that can be usesful when conducting top-down mechanistic modelling\n",
    "with tree- and shrub-ring data, such as ring width and stable isotope\n",
    "records. You can reference it in an F# script with `#r \"nuget: Bristlecone.Dendro\"`.\n",
    "\n",
    "### Seasonal Cycles and Day Length\n",
    "\n",
    "In high and mid-latitudes, seasonal cycles are the dominant control\n",
    "on plant productivity. In Bristlecone, we can represent seasonal variability\n",
    "in day length and environmental conditions - such as soil temperature\n",
    "and moisture - within model systems using some features of `Bristlecone.Dendro`.\n",
    "\n",
    "#### Sunrise, Sunset and Hours of Light\n",
    "\n",
    "To calculate whether there is total sun or darkness, or partial light, at any\n",
    "location on any day of the year, we can use the `Sunrise.calculate` function.\n",
    "\n"
   ]
  }
,
  {
   "cell_type": "code",
   "metadata": {
    "dotnet_interactive": {
     "language": "fsharp"
    },
    "polyglot_notebook": {
     "kernelName": "fsharp"
    }
   },
   "execution_count": 2, "outputs": [
          {
           "data": {
            "text/plain": ["PartialLight (4/20/2024 6:02:19 AM +01:00, 4/20/2024 8:28:53 PM +01:00)"]
        },
           "execution_count": 2,
           "metadata": {},
           "output_type": "execute_result"
          }],
   "source": [
    "open Bristlecone.Dendro\n",
    "\n",
    "let latitude = 54.2\n",
    "let longitude = -4.2\n",
    "\n",
    "Sunrise.calculate 2024 04 20 latitude longitude \"Europe/London\"\n"
   ]
  }
,
  {
   "cell_type": "markdown",
   "metadata": {},
   
   "source": [
    "As an illustration, if we looked at Tromsø in January we would see far less available light:\n",
    "\n"
   ]
  }
,
  {
   "cell_type": "code",
   "metadata": {
    "dotnet_interactive": {
     "language": "fsharp"
    },
    "polyglot_notebook": {
     "kernelName": "fsharp"
    }
   },
   "execution_count": 3, "outputs": [
          {
           "data": {
            "text/plain": ["CompleteDark"]
        },
           "execution_count": 3,
           "metadata": {},
           "output_type": "execute_result"
          }],
   "source": [
    "Sunrise.calculate 2024 01 10 69.64961 18.95702 \"Europe/London\"\n"
   ]
  }
 ],
 "metadata": {
  "kernelspec": {
   "display_name": ".NET (F#)",
   "language": "F#",
   "name": ".net-fsharp"
  },
  "language_info": {
   "file_extension": ".fs",
   "mimetype": "text/x-fsharp",
   "name": "polyglot-notebook",
   "pygments_lexer": "fsharp"
  },
  "polyglot_notebook": {
   "kernelInfo": {
    "defaultKernelName": "fsharp",
    "items": [
     {
      "aliases": [],
      "languageName": "fsharp",
      "name": "fsharp"
     }
    ]
   }
  }
 },
 "nbformat": 4,
 "nbformat_minor": 2
}

