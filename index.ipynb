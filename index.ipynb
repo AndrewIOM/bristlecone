
{
 "cells": [
  {
   "cell_type": "markdown",
   "metadata": {},
   
   "source": [
    "[![Script](https://acm.im/bristlecone//img/badge-script.svg)](https://acm.im/bristlecone//index.fsx)\u0026emsp;\n",
    "[![Notebook](https://acm.im/bristlecone//img/badge-notebook.svg)](https://acm.im/bristlecone//index.ipynb)\n",
    "\n"
   ]
  }
,
  {
   "cell_type": "code",
   "metadata": {
    "dotnet_interactive": {
     "language": "fsharp"
    },
    "polyglot_notebook": {
     "kernelName": "fsharp"
    }
   },
   "execution_count": null, "outputs": [],
   "source": [
    "#r \"nuget: Bristlecone,{{package-version}}\"\n"
   ]
  }
,
  {
   "cell_type": "markdown",
   "metadata": {},
   
   "source": [
    "# Bristlecone\n",
    "\n",
    "Bristlecone is a library for easily **composing** theoretical models into larger systems, and\n",
    "subsequently conducting model-fitting and model-selection analyses on time-series data.\n",
    "Although originally designed for the investigation of non-linear dynamics within ecological\n",
    "and environmental sciences, the library can be used across finance, econometrics and\n",
    "other fields that apply non-linear modelling techniques.\n",
    "\n",
    "## Quick Start\n",
    "\n",
    "Bristlecone is an F# .NET library. You can easily get started by installing\n",
    "[the latest .NET SDK](https://dot.net). You may then simply use the\n",
    "Bristlecone package in a script, application, or library.\n",
    "The nuget package [is available here](https://nuget.org/packages/Bristlecone).\n",
    "\n",
    "### To use in an F# script\n",
    "\n",
    "![img/example.png](img/example.png)\n",
    "\n",
    "## Example\n",
    "\n",
    "This example demonstrates the layout of a model when defined in Bristlecone.\n",
    "\n"
   ]
  }
,
  {
   "cell_type": "code",
   "metadata": {
    "dotnet_interactive": {
     "language": "fsharp"
    },
    "polyglot_notebook": {
     "kernelName": "fsharp"
    }
   },
   "execution_count": 2, "outputs": [
          {
           "data": {
            "text/plain": [""]
        },
           "execution_count": 2,
           "metadata": {},
           "output_type": "execute_result"
          }],
   "source": [
    "open Bristlecone // Opens Bristlecone core library and estimation engine\n",
    "open Bristlecone.Language // Open the language for writing Bristlecone models\n",
    "\n",
    "let hypothesis =\n",
    "\n",
    "    let vonBertalanffy = Parameter \"η\" * This ** Parameter \"β\" - Parameter \"κ\" * This\n",
    "\n",
    "    Model.empty\n",
    "    |\u003e Model.addEquation \"mass\" vonBertalanffy\n",
    "    |\u003e Model.estimateParameter \"η\" noConstraints 0.50 1.50\n",
    "    |\u003e Model.estimateParameter \"β\" noConstraints 0.01 1.00\n",
    "    |\u003e Model.estimateParameter \"κ\" noConstraints 0.01 1.00\n",
    "    |\u003e Model.useLikelihoodFunction (ModelLibrary.Likelihood.sumOfSquares [ \"mass\" ])\n",
    "    |\u003e Model.compile\n",
    "\n",
    "let engine =\n",
    "    Bristlecone.mkContinuous\n",
    "    |\u003e Bristlecone.withCustomOptimisation (Optimisation.Amoeba.swarm 5 20 Optimisation.Amoeba.Solver.Default)\n",
    "\n",
    "let testSettings = Bristlecone.Test.TestSettings\u003cfloat\u003e.Default\n",
    "let testResult = Bristlecone.testModel engine testSettings hypothesis\n"
   ]
  }
,
  {
   "cell_type": "markdown",
   "metadata": {},
   
   "source": [
    "In the above snippet, a von Bertalanffy growth model is defined as a hypothesis to test. We then create an `EstimationEngine`, which defines the methodology for model-fitting. In Bristlecone, an `EstimationEngine` is created and customised using the F# forward pipe operator (for R users this may be familiar; this concept was adapted into the dplyr %\u0026gt;% operator). The call to `testModel` generates random test data, and assesses whether the model-fitting method can accurately estimate known parameters.\n",
    "\n",
    "## Samples \u0026amp; documentation\n",
    "\n",
    "An API reference is automatically generated from XML comments in the library implementation.\n",
    "\n",
    "In addition, this documentation includes step-by-step example analyses. Each analysis may be downloaded\n",
    "as an F# script or Jupyter notebook using the buttons at the top of each example page.\n",
    "\n",
    "* [The predator-prey example](examples/predator-prey.html) covers basic model-fitting with Bristlecone.\n",
    "  \n",
    "\n",
    "* [The shrub-resource example](examples/shrub-resource.html) is a more\n",
    "comprehensive example that covers model-fitting and model-selection (MFMS) with Bristlecone.\n",
    "  \n",
    "\n",
    "* The [API Reference](reference/index.html) contains automatically generated documentation for all types, modules\n",
    "and functions in the library. This includes additional brief samples on using most of the\n",
    "functions.\n",
    "  \n",
    "\n",
    "## Contributing and copyright\n",
    "\n",
    "The project is hosted on [GitHub](https://github.com/AndrewIOM/Bristlecone) where you can [report issues](https://github.com/AndrewIOM/Bristlecone/issues), fork\n",
    "the project and submit pull requests. If you\u0027re adding a new public API, please also\n",
    "consider adding [samples](https://github.com/AndrewIOM/Bristlecone/tree/master/docs/examples) that can be turned into documentation (using fsdocs\n",
    "literal scripting).\n",
    "\n",
    "The library is available under an MIT license, which allows modification and\n",
    "redistribution for both commercial and non-commercial purposes. For more information see the\n",
    "[License file](https://github.com/AndrewIOM/Bristlecone/blob/master/LICENSE) in the GitHub repository.\n",
    "\n"
   ]
  }
 ],
 "metadata": {
  "kernelspec": {
   "display_name": ".NET (F#)",
   "language": "F#",
   "name": ".net-fsharp"
  },
  "language_info": {
   "file_extension": ".fs",
   "mimetype": "text/x-fsharp",
   "name": "polyglot-notebook",
   "pygments_lexer": "fsharp"
  },
  "polyglot_notebook": {
   "kernelInfo": {
    "defaultKernelName": "fsharp",
    "items": [
     {
      "aliases": [],
      "languageName": "fsharp",
      "name": "fsharp"
     }
    ]
   }
  }
 },
 "nbformat": 4,
 "nbformat_minor": 2
}

