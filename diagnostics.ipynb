
{
 "cells": [
  {
   "cell_type": "markdown",
   "metadata": {},
   
   "source": [
    "[![Script](https://acm.im/bristlecone//img/badge-script.svg)](https://acm.im/bristlecone//diagnostics.fsx)\u0026emsp;\n",
    "[![Notebook](https://acm.im/bristlecone//img/badge-notebook.svg)](https://acm.im/bristlecone//diagnostics.ipynb)\n",
    "\n"
   ]
  }
,
  {
   "cell_type": "code",
   "metadata": {
    "dotnet_interactive": {
     "language": "fsharp"
    },
    "polyglot_notebook": {
     "kernelName": "fsharp"
    }
   },
   "execution_count": null, "outputs": [],
   "source": [
    "#r \"nuget: Bristlecone,2.0.0\"\n"
   ]
  }
,
  {
   "cell_type": "markdown",
   "metadata": {},
   
   "source": [
    "# Diagnostics\n",
    "\n",
    "Diagnostic statistics are essential to ensure that the model-fitting\n",
    "and model-selection results are valid and complete.\n",
    "\n",
    "### Convergence Statistics\n",
    "\n",
    "For Monte-Carlo based optimisation techniques (such as the random walk\n",
    "MCMC or the Filzbach-style MCMC) convergence statistics are useful to\n",
    "assess whether multiple independent **chains** have identified the same\n",
    "minimum -log likelihood in parameter space, which may be the global minimum.\n",
    "\n",
    "Bristlecone includes the Gelman-Rubin convergence statistic (Rhat), which\n",
    "can be calculated on a per-parameter basis.\n",
    "\n"
   ]
  }
,
  {
   "cell_type": "code",
   "metadata": {
    "dotnet_interactive": {
     "language": "fsharp"
    },
    "polyglot_notebook": {
     "kernelName": "fsharp"
    }
   },
   "execution_count": 2, "outputs": [],
   "source": [
    "open Bristlecone\n",
    "open Bristlecone.Diagnostics\n",
    "open Bristlecone.Data\n",
    "\n",
    "let saveDirectory = \"/some/save/dir\"\n",
    "\n",
    "fun listOfResults -\u003e\n",
    "\n",
    "    // Calculate Gelman-Rubin statistic for all parameters\n",
    "    // across multiple model runs\n",
    "    let stat =\n",
    "        Convergence.gelmanRubinAll 1000 (fun _ -\u003e \"some subject\") (fun _ -\u003e \"some hypothesis\") listOfResults\n",
    "\n",
    "    // Save results to a single file\n",
    "    Convergence.save saveDirectory stat\n"
   ]
  }
,
  {
   "cell_type": "markdown",
   "metadata": {},
   
   "source": [
    "### Logging individual model components\n",
    "\n",
    "Sometimes it is helpful for diagnostic or visualisation purposes to\n",
    "see the values of individual parts of a mathematical model during\n",
    "computation, or at the minimum -log likelihood.\n",
    "\n",
    "Bristlecone includes the ability to log out the values of individual\n",
    "model components through time. An worked example is given below of how to\n",
    "obtain computed values across the time-series for components within\n",
    "a model system. First, you must set up a model that has a parameter\n",
    "of the `IComponentLogger\u003cfloat\u003e)` type:\n",
    "\n",
    "[ NB TODO: This function must be refactored to work with the new v2 Bristlecone Language,\n",
    "and as such is currently disabled. ]()\n",
    "\n"
   ]
  }
,
  {
   "cell_type": "code",
   "metadata": {
    "dotnet_interactive": {
     "language": "fsharp"
    },
    "polyglot_notebook": {
     "kernelName": "fsharp"
    }
   },
   "execution_count": 3, "outputs": [],
   "source": [
    "// open Bristlecone\n",
    "// open Bristlecone.Language\n",
    "// open Bristlecone.Diagnostics.ModelComponents\n",
    "\n",
    "// let hypothesis (cLog:IComponentLogger\u003cModelExpression\u003e) =\n",
    "\n",
    "//     let ``dN/dt`` =\n",
    "//         Parameter \"r\" * This * cLog.StoreValue \"log this thing\" (Constant 1. - (This / Parameter \"K\"))\n",
    "\n",
    "//     Model.empty\n",
    "//     |\u003e Model.addEquation       \"N\"      ``dN/dt``\n",
    "//     |\u003e Model.estimateParameter \"r\"      noConstraints 0.10 5.00\n",
    "//     |\u003e Model.estimateParameter \"K\"      noConstraints 50.0 150.\n",
    "//     |\u003e Model.useLikelihoodFunction      (ModelLibrary.Likelihood.sumOfSquares [ \"N\" ])\n",
    "//     |\u003e Model.compile\n",
    "\n",
    "\n",
    "// fun engine singleResult -\u003e\n",
    "//     // A wrapper around the Bristlecone.fit function\n",
    "//     let fitFn ts m e = Bristlecone.fit e (Optimisation.EndConditions.afterIteration 1) ts m\n",
    "//     let logs = ModelComponents.calculateComponents fitFn engine singleResult\n",
    "//     ()\n"
   ]
  }
 ],
 "metadata": {
  "kernelspec": {
   "display_name": ".NET (F#)",
   "language": "F#",
   "name": ".net-fsharp"
  },
  "language_info": {
   "file_extension": ".fs",
   "mimetype": "text/x-fsharp",
   "name": "polyglot-notebook",
   "pygments_lexer": "fsharp"
  },
  "polyglot_notebook": {
   "kernelInfo": {
    "defaultKernelName": "fsharp",
    "items": [
     {
      "aliases": [],
      "languageName": "fsharp",
      "name": "fsharp"
     }
    ]
   }
  }
 },
 "nbformat": 4,
 "nbformat_minor": 2
}

