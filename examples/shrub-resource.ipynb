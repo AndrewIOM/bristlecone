
{
 "cells": [
  {
   "cell_type": "markdown",
   "metadata": {},
   
   "source": [
    
   ]
  }
,
  {
   "cell_type": "code",
   "metadata": {
    "dotnet_interactive": {
     "language": "fsharp"
    },
    "polyglot_notebook": {
     "kernelName": "fsharp"
    }
   },
   "execution_count": null, "outputs": [],
   "source": [
    "#r \"nuget: Bristlecone,2.0.0\"\n"
   ]
  }
,
  {
   "cell_type": "markdown",
   "metadata": {},
   
   "source": [
    "## A fully-worked example: soil nutrients and plant growth\n",
    "\n",
    "The following code demonstrates the key functionality of\n",
    "Bristlecone, using a real-world example. Specifically, it\n",
    "demonstrates model-fitting and model-selection for the\n",
    "mechanisms controlling nutrient limitation to shrub individuals\n",
    "in the Arctic tundra.\n",
    "\n",
    "The hypotheses are tested on a per-shrub basis. For each shrub,\n",
    "there are four components that may vary in the model, which\n",
    "when multiplied together results in 12 possible combinations\n",
    "of mechanisms for each shrub.\n",
    "\n",
    "First, we must load Bristlecone.\n",
    "\n"
   ]
  }
,
  {
   "cell_type": "code",
   "metadata": {
    "dotnet_interactive": {
     "language": "fsharp"
    },
    "polyglot_notebook": {
     "kernelName": "fsharp"
    }
   },
   "execution_count": 3, "outputs": [],
   "source": [
    "open Bristlecone // Opens Bristlecone core library and estimation engine\n",
    "open Bristlecone.Language // Open the language for writing Bristlecone models\n",
    "open Bristlecone.Time\n"
   ]
  }
,
  {
   "cell_type": "markdown",
   "metadata": {},
   
   "source": [
    "### Defining a \u0027base model\u0027\n",
    "\n",
    "Then, we define a `base model` system, into which we can nest\n",
    "the components that vary (which represent different hypotheses).\n",
    "\n",
    "Our base model consists of the following parts:\n",
    "\n",
    "* **An empirical transform.** As this model uses long-term ecological data, \n",
    "there is a function that translates from an ecological proxy (stable nitrogen isotope)\n",
    "into the desired variable - soil nitrogen availability.\n",
    "\n",
    "* **Two ordinary differential equations (ODEs).** These represent the soil N availability\n",
    "and plant biomass through time.\n",
    "\n",
    "* **A **measurement** variable.** Bristlecone \u0027measurements\u0027 are effectively\n",
    "derived time-series that are calulated from the integrated ODE output. Here,\n",
    "we use a measurement variable to transform biomass into wood ring production,\n",
    "where rings are only produced where plant biomass has increased during the year.\n",
    "\n",
    "The code for the parts of the base model is shown below.\n",
    "\n"
   ]
  }
,
  {
   "cell_type": "code",
   "metadata": {
    "dotnet_interactive": {
     "language": "fsharp"
    },
    "polyglot_notebook": {
     "kernelName": "fsharp"
    }
   },
   "execution_count": 4, "outputs": [],
   "source": [
    "// Empirical transform from δ15N to N availability.\n",
    "let ``δ15N -\u003e N availability`` =\n",
    "    (Constant 100. * Environment \"N\" + Constant 309.) / Constant 359.\n",
    "\n",
    "// ODE1. Cumulative stem biomass\n",
    "let ``db/dt`` geom nLimitation =\n",
    "    Parameter \"r\" * (geom This) * This * (nLimitation ``δ15N -\u003e N availability``)\n",
    "    - Parameter \"γ[b]\" * This\n",
    "\n",
    "// ODE2. Soil nitrogen availability\n",
    "let ``dN/dt`` geom feedback limitationName nLimitation =\n",
    "    if limitationName = \"None\" then\n",
    "        Parameter \"λ\" - Parameter \"γ[N]\" * ``δ15N -\u003e N availability`` + feedback This\n",
    "    else\n",
    "        Parameter \"λ\" - Parameter \"γ[N]\" * ``δ15N -\u003e N availability`` + feedback This\n",
    "        - (geom This) * This * (nLimitation ``δ15N -\u003e N availability``)\n",
    "\n",
    "// Measurement variable: stem radius\n",
    "let stemRadius lastRadius lastEnv env =\n",
    "    let oldCumulativeMass = lastEnv |\u003e lookup \"bs\"\n",
    "    let newCumulativeMass = env |\u003e lookup \"bs\"\n",
    "\n",
    "    if (newCumulativeMass - oldCumulativeMass) \u003e 0. then\n",
    "        newCumulativeMass |\u003e Allometric.Proxies.toRadiusMM // NB Allometrics is given in full in the downloadable script.\n",
    "    else\n",
    "        lastRadius\n"
   ]
  }
,
  {
   "cell_type": "markdown",
   "metadata": {},
   
   "source": [
    "Once we have defined the components, we can scaffold them into a model system.\n",
    "We can plug in the nestable hypotheses (defined further below) by defining\n",
    "the base model as a function that takes parameters representing the\n",
    "alternative hypotheses.\n",
    "\n"
   ]
  }
,
  {
   "cell_type": "code",
   "metadata": {
    "dotnet_interactive": {
     "language": "fsharp"
    },
    "polyglot_notebook": {
     "kernelName": "fsharp"
    }
   },
   "execution_count": 5, "outputs": [],
   "source": [
    "let ``base model`` geometricConstraint plantSoilFeedback (nLimitMode, nLimitation) =\n",
    "    Model.empty\n",
    "    |\u003e Model.addEquation \"bs\" (``db/dt`` geometricConstraint nLimitation)\n",
    "    |\u003e Model.addEquation \"N\" (``dN/dt`` geometricConstraint plantSoilFeedback nLimitMode nLimitation)\n",
    "    |\u003e Model.includeMeasure \"x\" stemRadius\n",
    "    |\u003e Model.estimateParameter \"λ\" notNegative 0.001 0.500\n",
    "    |\u003e Model.estimateParameter \"γ[N]\" notNegative 0.001 0.200\n",
    "    |\u003e Model.estimateParameter \"γ[b]\" notNegative 0.001 0.200\n",
    "    |\u003e Model.useLikelihoodFunction (ModelLibrary.Likelihood.bivariateGaussian \"x\" \"N\")\n",
    "    |\u003e Model.estimateParameter \"ρ\" noConstraints -0.500 0.500\n",
    "    |\u003e Model.estimateParameter \"σ[x]\" notNegative 0.001 0.100\n",
    "    |\u003e Model.estimateParameter \"σ[y]\" notNegative 0.001 0.100\n"
   ]
  }
,
  {
   "cell_type": "markdown",
   "metadata": {},
   
   "source": [
    "### Defining the competing hypotheses\n",
    "\n",
    "Here, we define 12 alternative hypotheses by defining three interchangeable\n",
    "components:\n",
    "\n",
    "* Asymptotic plant size (2 types);\n",
    "\n",
    "* Plant-soil feedback presence / absence (2 types); and\n",
    "\n",
    "* Nitrogen limitation form (3 types).\n",
    "\n",
    "Once we have defined each of the three components, we can take the\n",
    "product of them with the base model which forms 12\n",
    "alternative hypotheses, each represented as a `ModelSystem`.\n",
    "\n",
    "#### Geometric constraint\n",
    "\n",
    "Plants do not grow indefinitely, but eventually reach an asymptotic mass\n",
    "owing either to geometric or resource constraints. Here, we define two\n",
    "competing hypotheses: that a shrub does not show evidence of nearing its\n",
    "asymptote, or that it does (based on a Chapman-Richards growth function).\n",
    "\n",
    "In Bristlecone, we use `modelComponent` to construct a pluggable component\n",
    "into a model system. We pass `modelComponent` a list of `subComponent`s, which\n",
    "each have a name and an equation. In its equation, a model component can\n",
    "take one or many parameters, but these must match the signiture required\n",
    "by the hole in the base model. For example, the geometric constraint here\n",
    "takes the current `mass` only.\n",
    "\n",
    "In addition, a `subComponent` may require additional estimatable parameters\n",
    "over the base model. In this case, the Chapman-Richards model requires an\n",
    "extra parameter **K**, which represents the asymptotic biomass. These may be\n",
    "added to a `subComponent` by using `|\u003e estimateParameter` afterwards, as below.\n",
    "\n"
   ]
  }
,
  {
   "cell_type": "code",
   "metadata": {
    "dotnet_interactive": {
     "language": "fsharp"
    },
    "polyglot_notebook": {
     "kernelName": "fsharp"
    }
   },
   "execution_count": 6, "outputs": [],
   "source": [
    "let ``geometric constraint`` =\n",
    "    modelComponent\n",
    "        \"Geometric constraint\"\n",
    "        [ subComponent \"None\" (Constant 1. |\u003e (*))\n",
    "          subComponent \"Chapman-Richards\" (fun mass -\u003e Constant 1. - (mass / (Parameter \"k\" * Constant 1000.)))\n",
    "          |\u003e estimateParameter \"k\" notNegative 3.00 5.00 ] // Asymptotic biomass (in kilograms)\n"
   ]
  }
,
  {
   "cell_type": "markdown",
   "metadata": {},
   
   "source": [
    "#### Plant-soil feedback\n",
    "\n",
    "The plant-soil feedback is the flow of nutrients from plant biomass into the\n",
    "soil available nitrogen pool. Here, we effectively turn on or off N input into\n",
    "the soil pool on biomass loss. In the base model, density-dependent biomass\n",
    "loss occurs. Turning on the feedback here creates an N input into soil based\n",
    "on the biomass lost multiplied by a conversion factor `ɑ`.\n",
    "\n"
   ]
  }
,
  {
   "cell_type": "code",
   "metadata": {
    "dotnet_interactive": {
     "language": "fsharp"
    },
    "polyglot_notebook": {
     "kernelName": "fsharp"
    }
   },
   "execution_count": 7, "outputs": [],
   "source": [
    "let ``plant-soil feedback`` =\n",
    "\n",
    "    let biomassLoss biomass =\n",
    "        (Parameter \"ɑ\" / Constant 100.) * biomass * Parameter \"γ[b]\"\n",
    "\n",
    "    modelComponent\n",
    "        \"Plant-Soil Feedback\"\n",
    "        [ subComponent \"None\" (Constant 1. |\u003e (*))\n",
    "          subComponent \"Biomass Loss\" biomassLoss\n",
    "          |\u003e estimateParameter \"ɑ\" notNegative 0.01 1.00 ] // N-recycling efficiency\n"
   ]
  }
,
  {
   "cell_type": "markdown",
   "metadata": {},
   
   "source": [
    "#### Nitrogen limitation\n",
    "\n",
    "We specify three plausable mechanisms for nutrient limitation to shrub\n",
    "growth: (1) that growth is independent on soil N availability; (2) that\n",
    "growth is dependent on soil N availability in a linear way; or (3) that\n",
    "a mechanistic model of root-foraging (saturating) best represents\n",
    "N-limitation of shrub growth.\n",
    "\n",
    "A new concept here is the `Conditional` element in an equation. This\n",
    "term exposes a `ModelExpression -\u003e float` (compute), allowing a calculation\n",
    "to be conditional on the state of parameters or values. In this example,\n",
    "we use it to restrict the models such that the N-limiting effect cannot\n",
    "be zero.\n",
    "\n"
   ]
  }
,
  {
   "cell_type": "code",
   "metadata": {
    "dotnet_interactive": {
     "language": "fsharp"
    },
    "polyglot_notebook": {
     "kernelName": "fsharp"
    }
   },
   "execution_count": 8, "outputs": [],
   "source": [
    "let ``N-limitation to growth`` =\n",
    "\n",
    "    let saturating minimumNutrient nutrient =\n",
    "        let hollingModel n =\n",
    "            (Parameter \"a\" * n)\n",
    "            / (Constant 1. + (Parameter \"a\" (** Parameter \"b\"*) * Parameter \"h\" * n))\n",
    "\n",
    "        Conditional\n",
    "        \u003c| fun compute -\u003e\n",
    "            if compute (hollingModel minimumNutrient) \u003c 1e-12 then\n",
    "                Invalid\n",
    "            else\n",
    "                hollingModel nutrient\n",
    "\n",
    "    let linear min resource =\n",
    "        Conditional\n",
    "        \u003c| fun compute -\u003e\n",
    "            if compute (Parameter \"a\" * min) \u003c 1e-12 then\n",
    "                Invalid\n",
    "            else\n",
    "                Parameter \"a\" * resource\n",
    "\n",
    "    modelComponent\n",
    "        \"N-limitation\"\n",
    "        [ subComponent \"Saturating\" (saturating (Constant 5.))\n",
    "          |\u003e estimateParameter \"a\" notNegative 0.100 0.400\n",
    "          |\u003e estimateParameter \"h\" notNegative 0.100 0.400\n",
    "          |\u003e estimateParameter \"r\" notNegative 0.500 1.000\n",
    "          subComponent \"Linear\" (linear (Constant 5.))\n",
    "          |\u003e estimateParameter \"a\" notNegative 0.100 0.400\n",
    "          |\u003e estimateParameter \"r\" notNegative 0.500 1.000\n",
    "          subComponent \"None\" (Constant 1. |\u003e (*))\n",
    "          |\u003e estimateParameter \"r\" notNegative 0.500 1.000 ]\n"
   ]
  }
,
  {
   "cell_type": "markdown",
   "metadata": {},
   
   "source": [
    "#### Putting the hypotheses together\n",
    "\n"
   ]
  }
,
  {
   "cell_type": "code",
   "metadata": {
    "dotnet_interactive": {
     "language": "fsharp"
    },
    "polyglot_notebook": {
     "kernelName": "fsharp"
    }
   },
   "execution_count": 9, "outputs": [],
   "source": [
    "let hypotheses =\n",
    "    ``base model``\n",
    "    |\u003e Hypotheses.createFromComponent ``geometric constraint``\n",
    "    |\u003e Hypotheses.useAnother ``plant-soil feedback``\n",
    "    |\u003e Hypotheses.useAnotherWithName ``N-limitation to growth``\n",
    "    |\u003e Hypotheses.compile\n"
   ]
  }
,
  {
   "cell_type": "markdown",
   "metadata": {},
   
   "source": [
    "The resultant hypotheses (each of which is a `Hypotheses.Hypothesis`) are:\n",
    "\n",
    "```\n",
    "Hypothesis 1 [MICROSOFT.FSHARP.COLLECTIONS.IENUMERATOR+MKSEQ@177[SYSTEM.COLLECTIONS.GENERIC.IENUMERABLE`1[SYSTEM.CHAR]]_MICROSOFT.FSHARP.COLLECTIONS.IENUMERATOR+MKSEQ@177[SYSTEM.COLLECTIONS.GENERIC.IENUMERABLE`1[SYSTEM.CHAR]]_MICROSOFT.FSHARP.COLLECTIONS.IENUMERATOR+MKSEQ@177[SYSTEM.COLLECTIONS.GENERIC.IENUMERABLE`1[SYSTEM.CHAR]]_MICROSOFT.FSHARP.COLLECTIONS.IENUMERATOR+MKSEQ@177[SYSTEM.COLLECTIONS.GENERIC.IENUMERABLE`1[SYSTEM.CHAR]]_MICROSOFT.FSHARP.COLLECTIONS.IENUMERATOR+MKSEQ@177[SYSTEM.COLLECTIONS.GENERIC.IENUMERABLE`1[SYSTEM.CHAR]]_MICROSOFT.FSHARP.COLLECTIONS.IENUMERATOR+MKSEQ@177[SYSTEM.COLLECTIONS.GENERIC.IENUMERABLE`1[SYSTEM.CHAR]]]: None + None + Saturating\n",
    "Hypothesis 2 [MICROSOFT.FSHARP.COLLECTIONS.IENUMERATOR+MKSEQ@177[SYSTEM.COLLECTIONS.GENERIC.IENUMERABLE`1[SYSTEM.CHAR]]_MICROSOFT.FSHARP.COLLECTIONS.IENUMERATOR+MKSEQ@177[SYSTEM.COLLECTIONS.GENERIC.IENUMERABLE`1[SYSTEM.CHAR]]_MICROSOFT.FSHARP.COLLECTIONS.IENUMERATOR+MKSEQ@177[SYSTEM.COLLECTIONS.GENERIC.IENUMERABLE`1[SYSTEM.CHAR]]_MICROSOFT.FSHARP.COLLECTIONS.IENUMERATOR+MKSEQ@177[SYSTEM.COLLECTIONS.GENERIC.IENUMERABLE`1[SYSTEM.CHAR]]_MICROSOFT.FSHARP.COLLECTIONS.IENUMERATOR+MKSEQ@177[SYSTEM.COLLECTIONS.GENERIC.IENUMERABLE`1[SYSTEM.CHAR]]_MICROSOFT.FSHARP.COLLECTIONS.IENUMERATOR+MKSEQ@177[SYSTEM.COLLECTIONS.GENERIC.IENUMERABLE`1[SYSTEM.CHAR]]]: Chapman-Richards + None + Saturating\n",
    "Hypothesis 3 [MICROSOFT.FSHARP.COLLECTIONS.IENUMERATOR+MKSEQ@177[SYSTEM.COLLECTIONS.GENERIC.IENUMERABLE`1[SYSTEM.CHAR]]_MICROSOFT.FSHARP.COLLECTIONS.IENUMERATOR+MKSEQ@177[SYSTEM.COLLECTIONS.GENERIC.IENUMERABLE`1[SYSTEM.CHAR]]_MICROSOFT.FSHARP.COLLECTIONS.IENUMERATOR+MKSEQ@177[SYSTEM.COLLECTIONS.GENERIC.IENUMERABLE`1[SYSTEM.CHAR]]_MICROSOFT.FSHARP.COLLECTIONS.IENUMERATOR+MKSEQ@177[SYSTEM.COLLECTIONS.GENERIC.IENUMERABLE`1[SYSTEM.CHAR]]_MICROSOFT.FSHARP.COLLECTIONS.IENUMERATOR+MKSEQ@177[SYSTEM.COLLECTIONS.GENERIC.IENUMERABLE`1[SYSTEM.CHAR]]_MICROSOFT.FSHARP.COLLECTIONS.IENUMERATOR+MKSEQ@177[SYSTEM.COLLECTIONS.GENERIC.IENUMERABLE`1[SYSTEM.CHAR]]]: None + Biomass Loss + Saturating\n",
    "Hypothesis 4 [MICROSOFT.FSHARP.COLLECTIONS.IENUMERATOR+MKSEQ@177[SYSTEM.COLLECTIONS.GENERIC.IENUMERABLE`1[SYSTEM.CHAR]]_MICROSOFT.FSHARP.COLLECTIONS.IENUMERATOR+MKSEQ@177[SYSTEM.COLLECTIONS.GENERIC.IENUMERABLE`1[SYSTEM.CHAR]]_MICROSOFT.FSHARP.COLLECTIONS.IENUMERATOR+MKSEQ@177[SYSTEM.COLLECTIONS.GENERIC.IENUMERABLE`1[SYSTEM.CHAR]]_MICROSOFT.FSHARP.COLLECTIONS.IENUMERATOR+MKSEQ@177[SYSTEM.COLLECTIONS.GENERIC.IENUMERABLE`1[SYSTEM.CHAR]]_MICROSOFT.FSHARP.COLLECTIONS.IENUMERATOR+MKSEQ@177[SYSTEM.COLLECTIONS.GENERIC.IENUMERABLE`1[SYSTEM.CHAR]]_MICROSOFT.FSHARP.COLLECTIONS.IENUMERATOR+MKSEQ@177[SYSTEM.COLLECTIONS.GENERIC.IENUMERABLE`1[SYSTEM.CHAR]]]: Chapman-Richards + Biomass Loss + Saturating\n",
    "Hypothesis 5 [MICROSOFT.FSHARP.COLLECTIONS.IENUMERATOR+MKSEQ@177[SYSTEM.COLLECTIONS.GENERIC.IENUMERABLE`1[SYSTEM.CHAR]]_MICROSOFT.FSHARP.COLLECTIONS.IENUMERATOR+MKSEQ@177[SYSTEM.COLLECTIONS.GENERIC.IENUMERABLE`1[SYSTEM.CHAR]]_MICROSOFT.FSHARP.COLLECTIONS.IENUMERATOR+MKSEQ@177[SYSTEM.COLLECTIONS.GENERIC.IENUMERABLE`1[SYSTEM.CHAR]]_MICROSOFT.FSHARP.COLLECTIONS.IENUMERATOR+MKSEQ@177[SYSTEM.COLLECTIONS.GENERIC.IENUMERABLE`1[SYSTEM.CHAR]]_MICROSOFT.FSHARP.COLLECTIONS.IENUMERATOR+MKSEQ@177[SYSTEM.COLLECTIONS.GENERIC.IENUMERABLE`1[SYSTEM.CHAR]]_MICROSOFT.FSHARP.COLLECTIONS.IENUMERATOR+MKSEQ@177[SYSTEM.COLLECTIONS.GENERIC.IENUMERABLE`1[SYSTEM.CHAR]]]: None + None + Linear\n",
    "Hypothesis 6 [MICROSOFT.FSHARP.COLLECTIONS.IENUMERATOR+MKSEQ@177[SYSTEM.COLLECTIONS.GENERIC.IENUMERABLE`1[SYSTEM.CHAR]]_MICROSOFT.FSHARP.COLLECTIONS.IENUMERATOR+MKSEQ@177[SYSTEM.COLLECTIONS.GENERIC.IENUMERABLE`1[SYSTEM.CHAR]]_MICROSOFT.FSHARP.COLLECTIONS.IENUMERATOR+MKSEQ@177[SYSTEM.COLLECTIONS.GENERIC.IENUMERABLE`1[SYSTEM.CHAR]]_MICROSOFT.FSHARP.COLLECTIONS.IENUMERATOR+MKSEQ@177[SYSTEM.COLLECTIONS.GENERIC.IENUMERABLE`1[SYSTEM.CHAR]]_MICROSOFT.FSHARP.COLLECTIONS.IENUMERATOR+MKSEQ@177[SYSTEM.COLLECTIONS.GENERIC.IENUMERABLE`1[SYSTEM.CHAR]]_MICROSOFT.FSHARP.COLLECTIONS.IENUMERATOR+MKSEQ@177[SYSTEM.COLLECTIONS.GENERIC.IENUMERABLE`1[SYSTEM.CHAR]]]: Chapman-Richards + None + Linear\n",
    "Hypothesis 7 [MICROSOFT.FSHARP.COLLECTIONS.IENUMERATOR+MKSEQ@177[SYSTEM.COLLECTIONS.GENERIC.IENUMERABLE`1[SYSTEM.CHAR]]_MICROSOFT.FSHARP.COLLECTIONS.IENUMERATOR+MKSEQ@177[SYSTEM.COLLECTIONS.GENERIC.IENUMERABLE`1[SYSTEM.CHAR]]_MICROSOFT.FSHARP.COLLECTIONS.IENUMERATOR+MKSEQ@177[SYSTEM.COLLECTIONS.GENERIC.IENUMERABLE`1[SYSTEM.CHAR]]_MICROSOFT.FSHARP.COLLECTIONS.IENUMERATOR+MKSEQ@177[SYSTEM.COLLECTIONS.GENERIC.IENUMERABLE`1[SYSTEM.CHAR]]_MICROSOFT.FSHARP.COLLECTIONS.IENUMERATOR+MKSEQ@177[SYSTEM.COLLECTIONS.GENERIC.IENUMERABLE`1[SYSTEM.CHAR]]_MICROSOFT.FSHARP.COLLECTIONS.IENUMERATOR+MKSEQ@177[SYSTEM.COLLECTIONS.GENERIC.IENUMERABLE`1[SYSTEM.CHAR]]]: None + Biomass Loss + Linear\n",
    "Hypothesis 8 [MICROSOFT.FSHARP.COLLECTIONS.IENUMERATOR+MKSEQ@177[SYSTEM.COLLECTIONS.GENERIC.IENUMERABLE`1[SYSTEM.CHAR]]_MICROSOFT.FSHARP.COLLECTIONS.IENUMERATOR+MKSEQ@177[SYSTEM.COLLECTIONS.GENERIC.IENUMERABLE`1[SYSTEM.CHAR]]_MICROSOFT.FSHARP.COLLECTIONS.IENUMERATOR+MKSEQ@177[SYSTEM.COLLECTIONS.GENERIC.IENUMERABLE`1[SYSTEM.CHAR]]_MICROSOFT.FSHARP.COLLECTIONS.IENUMERATOR+MKSEQ@177[SYSTEM.COLLECTIONS.GENERIC.IENUMERABLE`1[SYSTEM.CHAR]]_MICROSOFT.FSHARP.COLLECTIONS.IENUMERATOR+MKSEQ@177[SYSTEM.COLLECTIONS.GENERIC.IENUMERABLE`1[SYSTEM.CHAR]]_MICROSOFT.FSHARP.COLLECTIONS.IENUMERATOR+MKSEQ@177[SYSTEM.COLLECTIONS.GENERIC.IENUMERABLE`1[SYSTEM.CHAR]]]: Chapman-Richards + Biomass Loss + Linear\n",
    "Hypothesis 9 [MICROSOFT.FSHARP.COLLECTIONS.IENUMERATOR+MKSEQ@177[SYSTEM.COLLECTIONS.GENERIC.IENUMERABLE`1[SYSTEM.CHAR]]_MICROSOFT.FSHARP.COLLECTIONS.IENUMERATOR+MKSEQ@177[SYSTEM.COLLECTIONS.GENERIC.IENUMERABLE`1[SYSTEM.CHAR]]_MICROSOFT.FSHARP.COLLECTIONS.IENUMERATOR+MKSEQ@177[SYSTEM.COLLECTIONS.GENERIC.IENUMERABLE`1[SYSTEM.CHAR]]_MICROSOFT.FSHARP.COLLECTIONS.IENUMERATOR+MKSEQ@177[SYSTEM.COLLECTIONS.GENERIC.IENUMERABLE`1[SYSTEM.CHAR]]_MICROSOFT.FSHARP.COLLECTIONS.IENUMERATOR+MKSEQ@177[SYSTEM.COLLECTIONS.GENERIC.IENUMERABLE`1[SYSTEM.CHAR]]_MICROSOFT.FSHARP.COLLECTIONS.IENUMERATOR+MKSEQ@177[SYSTEM.COLLECTIONS.GENERIC.IENUMERABLE`1[SYSTEM.CHAR]]]: None + None + None\n",
    "Hypothesis 10 [MICROSOFT.FSHARP.COLLECTIONS.IENUMERATOR+MKSEQ@177[SYSTEM.COLLECTIONS.GENERIC.IENUMERABLE`1[SYSTEM.CHAR]]_MICROSOFT.FSHARP.COLLECTIONS.IENUMERATOR+MKSEQ@177[SYSTEM.COLLECTIONS.GENERIC.IENUMERABLE`1[SYSTEM.CHAR]]_MICROSOFT.FSHARP.COLLECTIONS.IENUMERATOR+MKSEQ@177[SYSTEM.COLLECTIONS.GENERIC.IENUMERABLE`1[SYSTEM.CHAR]]_MICROSOFT.FSHARP.COLLECTIONS.IENUMERATOR+MKSEQ@177[SYSTEM.COLLECTIONS.GENERIC.IENUMERABLE`1[SYSTEM.CHAR]]_MICROSOFT.FSHARP.COLLECTIONS.IENUMERATOR+MKSEQ@177[SYSTEM.COLLECTIONS.GENERIC.IENUMERABLE`1[SYSTEM.CHAR]]_MICROSOFT.FSHARP.COLLECTIONS.IENUMERATOR+MKSEQ@177[SYSTEM.COLLECTIONS.GENERIC.IENUMERABLE`1[SYSTEM.CHAR]]]: Chapman-Richards + None + None\n",
    "Hypothesis 11 [MICROSOFT.FSHARP.COLLECTIONS.IENUMERATOR+MKSEQ@177[SYSTEM.COLLECTIONS.GENERIC.IENUMERABLE`1[SYSTEM.CHAR]]_MICROSOFT.FSHARP.COLLECTIONS.IENUMERATOR+MKSEQ@177[SYSTEM.COLLECTIONS.GENERIC.IENUMERABLE`1[SYSTEM.CHAR]]_MICROSOFT.FSHARP.COLLECTIONS.IENUMERATOR+MKSEQ@177[SYSTEM.COLLECTIONS.GENERIC.IENUMERABLE`1[SYSTEM.CHAR]]_MICROSOFT.FSHARP.COLLECTIONS.IENUMERATOR+MKSEQ@177[SYSTEM.COLLECTIONS.GENERIC.IENUMERABLE`1[SYSTEM.CHAR]]_MICROSOFT.FSHARP.COLLECTIONS.IENUMERATOR+MKSEQ@177[SYSTEM.COLLECTIONS.GENERIC.IENUMERABLE`1[SYSTEM.CHAR]]_MICROSOFT.FSHARP.COLLECTIONS.IENUMERATOR+MKSEQ@177[SYSTEM.COLLECTIONS.GENERIC.IENUMERABLE`1[SYSTEM.CHAR]]]: None + Biomass Loss + None\n",
    "Hypothesis 12 [MICROSOFT.FSHARP.COLLECTIONS.IENUMERATOR+MKSEQ@177[SYSTEM.COLLECTIONS.GENERIC.IENUMERABLE`1[SYSTEM.CHAR]]_MICROSOFT.FSHARP.COLLECTIONS.IENUMERATOR+MKSEQ@177[SYSTEM.COLLECTIONS.GENERIC.IENUMERABLE`1[SYSTEM.CHAR]]_MICROSOFT.FSHARP.COLLECTIONS.IENUMERATOR+MKSEQ@177[SYSTEM.COLLECTIONS.GENERIC.IENUMERABLE`1[SYSTEM.CHAR]]_MICROSOFT.FSHARP.COLLECTIONS.IENUMERATOR+MKSEQ@177[SYSTEM.COLLECTIONS.GENERIC.IENUMERABLE`1[SYSTEM.CHAR]]_MICROSOFT.FSHARP.COLLECTIONS.IENUMERATOR+MKSEQ@177[SYSTEM.COLLECTIONS.GENERIC.IENUMERABLE`1[SYSTEM.CHAR]]_MICROSOFT.FSHARP.COLLECTIONS.IENUMERATOR+MKSEQ@177[SYSTEM.COLLECTIONS.GENERIC.IENUMERABLE`1[SYSTEM.CHAR]]]: Chapman-Richards + Biomass Loss + None\n",
    "```\n",
    "\n",
    "### Setting up a **Bristlecone engine**\n",
    "\n",
    "A bristlecone engine provides a fixed setup for estimating parameters from data.\n",
    "We use the same engine for all model fits within a single study.\n",
    "\n",
    "Here, we scaffold an engine from `Bristlecone.mkContinuous`, as we are working\n",
    "with continuous-time models.\n",
    "\n",
    "**Note.** In a non-docs environment, we may choose to use a logger for this\n",
    "example that outputs real-time traces in graphical format using `ggplot` in `R`.\n",
    "To do this, we can call `withOutput` with `Logging.RealTimeTrace.graphWithConsole 60. 10000`\n",
    "to use the graphics functions from the `Bristlecone.Charts.R` package.\n",
    "\n"
   ]
  }
,
  {
   "cell_type": "code",
   "metadata": {
    "dotnet_interactive": {
     "language": "fsharp"
    },
    "polyglot_notebook": {
     "kernelName": "fsharp"
    }
   },
   "execution_count": 12, "outputs": [],
   "source": [
    "let output = Logging.Console.logger 1000\n",
    "\n",
    "let engine =\n",
    "    Bristlecone.mkContinuous\n",
    "    |\u003e Bristlecone.withContinuousTime Integration.MathNet.integrate\n",
    "    |\u003e Bristlecone.withOutput output\n",
    "    |\u003e Bristlecone.withConditioning Conditioning.RepeatFirstDataPoint\n",
    "    |\u003e Bristlecone.withCustomOptimisation (\n",
    "        Optimisation.MonteCarlo.SimulatedAnnealing.fastSimulatedAnnealing\n",
    "            0.01\n",
    "            true\n",
    "            { Optimisation.MonteCarlo.SimulatedAnnealing.AnnealSettings\u003cfloat\u003e.Default with\n",
    "                InitialTemperature = 100.\n",
    "                TemperatureCeiling = Some 100.\n",
    "                HeatRamp = (fun t -\u003e t + 5.00)\n",
    "                BoilingAcceptanceRate = 0.85\n",
    "                HeatStepLength = Optimisation.EndConditions.afterIteration 1000\n",
    "                TuneLength = 1000\n",
    "                AnnealStepLength =\n",
    "                    (fun x n -\u003e\n",
    "                        Optimisation.MonteCarlo.SimulatedAnnealing.EndConditions.improvementCount 5000 250 x n\n",
    "                        || Optimisation.EndConditions.afterIteration 10000 x n) }\n",
    "    )\n"
   ]
  }
,
  {
   "cell_type": "markdown",
   "metadata": {},
   
   "source": [
    "### Testing the engine and model\n",
    "\n",
    "Running a full test is strongly recommended. The test will demonstrate if the current\n",
    "configuration can find known parameters for a model. If this step fails, there is an\n",
    "issue with either your model, or the Bristlecone configuration.\n",
    "\n"
   ]
  }
,
  {
   "cell_type": "code",
   "metadata": {
    "dotnet_interactive": {
     "language": "fsharp"
    },
    "polyglot_notebook": {
     "kernelName": "fsharp"
    }
   },
   "execution_count": 13, "outputs": [],
   "source": [
    "let testSettings =\n",
    "    Test.create\n",
    "    |\u003e Test.addNoise (Test.Noise.tryAddNormal \"σ[y]\" \"N\")\n",
    "    |\u003e Test.addNoise (Test.Noise.tryAddNormal \"σ[x]\" \"bs\")\n",
    "    |\u003e Test.addGenerationRules\n",
    "        [ Test.GenerationRules.alwaysMoreThan -3. \"N\"\n",
    "          Test.GenerationRules.alwaysLessThan 20. \"N\"\n",
    "          Test.GenerationRules.alwaysMoreThan 0. \"bs\"\n",
    "          Test.GenerationRules.monotonicallyIncreasing \"x\" ] // There must be at least 10mm of wood production\n",
    "    |\u003e Test.addStartValues [ \"x\", 5.0; \"bs\", 5.0\u003cDendro.mm\u003e |\u003e Allometric.Proxies.toBiomassMM; \"N\", 3.64 ]\n",
    "    |\u003e Test.withTimeSeriesLength 30\n",
    "    |\u003e Test.endWhen (Optimisation.EndConditions.afterIteration 1000)\n"
   ]
  }
,
  {
   "cell_type": "code",
   "metadata": {
    "dotnet_interactive": {
     "language": "fsharp"
    },
    "polyglot_notebook": {
     "kernelName": "fsharp"
    }
   },
   "execution_count": null, "outputs": [],
   "source": [
    "let testResult =\n",
    "    hypotheses\n",
    "    |\u003e List.map ((fun h -\u003e h.Model) \u003e\u003e Bristlecone.testModel engine testSettings)\n"
   ]
  }
,
  {
   "cell_type": "markdown",
   "metadata": {},
   
   "source": [
    "### Load in the real dataset\n",
    "\n",
    "Here, we are using the Bristlecone.Dendro package to\n",
    "read in dendroecological data. For other problems, any\n",
    "method to wrangle the data into a `TimeSeries` is acceptable.\n",
    "\n"
   ]
  }
,
  {
   "cell_type": "code",
   "metadata": {
    "dotnet_interactive": {
     "language": "fsharp"
    },
    "polyglot_notebook": {
     "kernelName": "fsharp"
    }
   },
   "execution_count": 14, "outputs": [],
   "source": [
    "open Bristlecone.Dendro\n",
    "\n",
    "let dataset =\n",
    "    let plants =\n",
    "        Data.PlantIndividual.loadRingWidths (__SOURCE_DIRECTORY__ + \"/../data/yamal-rw.csv\")\n",
    "\n",
    "    let isotopeData =\n",
    "        Data.PlantIndividual.loadLocalEnvironmentVariable (__SOURCE_DIRECTORY__ + \"/../data/yuribei-d15N-imputed.csv\")\n",
    "\n",
    "    plants |\u003e PlantIndividual.zipEnvMany \"N\" isotopeData\n"
   ]
  }
,
  {
   "cell_type": "markdown",
   "metadata": {},
   
   "source": [
    "### Model-fitting to real data\n",
    "\n",
    "In this step, we will apply our `EstimationEngine` to the real\n",
    "shrub data and model hypotheses.\n",
    "\n",
    "Because there are so many hypotheses (x12) and individuals (x10),\n",
    "and we want to run replicate analyses (x3), it makes sense to\n",
    "run these 360 workloads in parallel. To do this, we can make use of\n",
    "the workflow tools in the `Bristlecone.Workflow` namespace.\n",
    "\n",
    "An orchestration agent is an agent that queues and runs work items\n",
    "in parallel. Below, we demonstrate setting up an agent:\n",
    "\n"
   ]
  }
,
  {
   "cell_type": "code",
   "metadata": {
    "dotnet_interactive": {
     "language": "fsharp"
    },
    "polyglot_notebook": {
     "kernelName": "fsharp"
    }
   },
   "execution_count": 15, "outputs": [],
   "source": [
    "open Bristlecone.Workflow\n",
    "\n",
    "let orchestrator =\n",
    "    Orchestration.OrchestrationAgent(\n",
    "        writeOut = output,\n",
    "        maxSimultaneous = System.Environment.ProcessorCount,\n",
    "        retainResults = false\n",
    "    )\n"
   ]
  }
,
  {
   "cell_type": "markdown",
   "metadata": {},
   
   "source": [
    "Before we can run the models, there are some specific considerations\n",
    "required for this problem.\n",
    "\n",
    "#### Setting the start values\n",
    "\n",
    "Given time-series data, a common modelling problem is the question of\n",
    "what to set t = 0 as. One strategy is to repeat the first data point (t1)\n",
    "as t0. In this instance, out isotope time-series are shorter than the\n",
    "ring-width time-series, so we generally know the real value of one\n",
    "time-series but not the other. Because of this, we use a custom start\n",
    "point for each shrub individual.\n",
    "\n"
   ]
  }
,
  {
   "cell_type": "code",
   "metadata": {
    "dotnet_interactive": {
     "language": "fsharp"
    },
    "polyglot_notebook": {
     "kernelName": "fsharp"
    }
   },
   "execution_count": 16, "outputs": [],
   "source": [
    "let startValues (startDate: System.DateTime) (plant: PlantIndividual.PlantIndividual) =\n",
    "    let removeUnit (x: float\u003c_\u003e) = float x\n",
    "\n",
    "    let initialRadius =\n",
    "        match plant.Growth with\n",
    "        | PlantIndividual.PlantGrowth.RingWidth s -\u003e\n",
    "            match s with\n",
    "            | GrowthSeries.Cumulative c -\u003e\n",
    "                let trimmed = c |\u003e TimeSeries.trimStart (startDate - System.TimeSpan.FromDays(366.))\n",
    "\n",
    "                match trimmed with\n",
    "                | Some t -\u003e t.Values |\u003e Seq.head\n",
    "                | None -\u003e failwith \"Could not get t0 from ring-width series\"\n",
    "            | _ -\u003e invalidOp \"Not applicable\"\n",
    "        | _ -\u003e invalidOp \"Not applicable\"\n",
    "\n",
    "    let initialMass = initialRadius |\u003e Allometric.Proxies.toBiomassMM\n",
    "    let initialNitrogen = plant.Environment.[(code \"N\").Value].Head |\u003e fst\n",
    "\n",
    "    [ ((code \"x\").Value, initialRadius |\u003e removeUnit)\n",
    "      ((code \"N\").Value, initialNitrogen)\n",
    "      ((code \"bs\").Value, initialMass) ]\n",
    "    |\u003e Map.ofList\n"
   ]
  }
,
  {
   "cell_type": "markdown",
   "metadata": {},
   
   "source": [
    "Next, we set up some configuration settings, then wrap up our hypotheses and shrubs\n",
    "as work packages for the orchestrator, where a work package is a `Async\u003cModelSystem.EstimationResult\u003e`.\n",
    "\n",
    "The function to make the work packages first sets up the common time period and custom\n",
    "start values for each shrub, then creates per-hypothesis work packages for that shrub.\n",
    "\n"
   ]
  }
,
  {
   "cell_type": "code",
   "metadata": {
    "dotnet_interactive": {
     "language": "fsharp"
    },
    "polyglot_notebook": {
     "kernelName": "fsharp"
    }
   },
   "execution_count": 17, "outputs": [],
   "source": [
    "module Config =\n",
    "\n",
    "    let numberOfReplicates = 3\n",
    "    let resultsDirectory = \"results/test/\"\n",
    "    let thinTrace = Some 100\n",
    "    let endWhen = Optimisation.EndConditions.afterIteration 100000\n",
    "\n",
    "\n",
    "// Function to scaffold work packages\n",
    "let workPackages shrubs (hypotheses: Hypotheses.Hypothesis list) engine saveDirectory =\n",
    "    seq {\n",
    "        for s in shrubs do\n",
    "\n",
    "            // 1. Arrange the subject and settings\n",
    "            let shrub = s |\u003e PlantIndividual.toCumulativeGrowth\n",
    "            let common = shrub |\u003e PlantIndividual.keepCommonYears\n",
    "            let startDate = (common.Environment.[(code \"N\").Value]).StartDate |\u003e snd\n",
    "            let startConditions = startValues startDate shrub\n",
    "            let e = engine |\u003e Bristlecone.withConditioning (Conditioning.Custom startConditions)\n",
    "\n",
    "            // 2. Setup batches of dependent analyses\n",
    "            for h in hypotheses do\n",
    "                for _ in [ 1 .. Config.numberOfReplicates ] do\n",
    "                    yield\n",
    "                        async {\n",
    "                            // A. Compute result\n",
    "                            let result =\n",
    "                                Bristlecone.tryFit e Config.endWhen (Bristlecone.fromDendro common) h.Model\n",
    "                            // B. Save to file\n",
    "                            match result with\n",
    "                            | Ok r -\u003e\n",
    "                                Bristlecone.Data.EstimationResult.saveAll\n",
    "                                    saveDirectory\n",
    "                                    s.Identifier.Value\n",
    "                                    h.ReferenceCode\n",
    "                                    Config.thinTrace\n",
    "                                    r\n",
    "\n",
    "                                return r\n",
    "                            | Error e -\u003e return failwithf \"Error in package: %s\" e\n",
    "                        }\n",
    "    }\n",
    "\n",
    "let work = workPackages dataset hypotheses engine Config.resultsDirectory\n",
    "\n",
    "// Calling this function will run all of the analyses, but for this\n",
    "// example script we won\u0027t run them here.\n",
    "let run () =\n",
    "    work\n",
    "    |\u003e Seq.iter (Orchestration.OrchestrationMessage.StartWorkPackage \u003e\u003e orchestrator.Post)\n"
   ]
  }
,
  {
   "cell_type": "markdown",
   "metadata": {},
   
   "source": [
    "### Model selection\n",
    "\n",
    "After calling `run ()`, we should have a folder containing csv files, three\n",
    "for each `EstimationResult`. We can load all of these in at once to\n",
    "calculate model comparison statistics.\n",
    "\n",
    "Functions for loading data are in the `Bristlecone.Data` namespace. You\n",
    "may notice that in the work package definition above we used functions from\n",
    "this namespace to save the results.\n",
    "\n"
   ]
  }
,
  {
   "cell_type": "code",
   "metadata": {
    "dotnet_interactive": {
     "language": "fsharp"
    },
    "polyglot_notebook": {
     "kernelName": "fsharp"
    }
   },
   "execution_count": 18, "outputs": [],
   "source": [
    "let saveDiagnostics () =\n",
    "\n",
    "    // 1. Get all results sliced by plant and hypothesis\n",
    "    let results =\n",
    "        let get (subject: PlantIndividual.PlantIndividual) (hypothesis: Hypotheses.Hypothesis) =\n",
    "            Bristlecone.Data.EstimationResult.loadAll\n",
    "                Config.resultsDirectory\n",
    "                subject.Identifier.Value\n",
    "                hypothesis.Model\n",
    "                hypothesis.ReferenceCode\n",
    "\n",
    "        Bristlecone.ModelSelection.ResultSet.arrangeResultSets dataset hypotheses get\n",
    "\n",
    "    // 2. Save convergence statistics to file\n",
    "    results\n",
    "    |\u003e Diagnostics.Convergence.gelmanRubinAll\n",
    "        10000\n",
    "        (fun (s: PlantIndividual.PlantIndividual) -\u003e s.Identifier.Value)\n",
    "        (fun (h: Hypotheses.Hypothesis) -\u003e h.ReferenceCode)\n",
    "    |\u003e Data.Convergence.save Config.resultsDirectory\n",
    "\n",
    "    // 3. Save Akaike weights to file\n",
    "    results\n",
    "    |\u003e ModelSelection.Akaike.akaikeWeightsForSet (fun (h: Hypotheses.Hypothesis) -\u003e h.ReferenceCode)\n",
    "    |\u003e Seq.map (fun (x, a, b, c) -\u003e x.Identifier.Value, a, b, c)\n",
    "    |\u003e Data.ModelSelection.save Config.resultsDirectory\n",
    "\n",
    "\n",
    "    // // 4. Save out logged components\n",
    "    // results\n",
    "    // |\u003e Seq.map(fun r -\u003e\n",
    "    //    Diagnostics.ModelComponents.calculateComponents fit engine r)\n",
    "\n",
    "    // 5. One-step ahead predictions\n",
    "\n",
    "    let bestFits =\n",
    "        Seq.allPairs dataset hypotheses\n",
    "        |\u003e Seq.map (fun (s, h) -\u003e\n",
    "            s, h, Bristlecone.Data.MLE.loadBest Config.resultsDirectory s.Identifier.Value h.Model h.ReferenceCode)\n",
    "\n",
    "    let oneStepPredictions =\n",
    "        bestFits\n",
    "        |\u003e Seq.map (fun (s, h, mle) -\u003e\n",
    "\n",
    "            // 0. Convert x into biomass\n",
    "            let preTransform (data: CodedMap\u003cTimeSeries\u003cfloat\u003e\u003e) =\n",
    "                data\n",
    "                |\u003e Map.toList\n",
    "                |\u003e List.collect (fun (k, v) -\u003e\n",
    "                    if k.Value = \"x\" then\n",
    "                        [ (k, v)\n",
    "                          ((code \"bs\").Value,\n",
    "                           v |\u003e TimeSeries.map (fun (x, _) -\u003e x * 1.\u003cmm\u003e |\u003e Allometric.Proxies.toBiomassMM)) ]\n",
    "                    else\n",
    "                        [ (k, v) ])\n",
    "                |\u003e Map.ofList\n",
    "\n",
    "            // 1. Arrange the subject and settings (same as in model-fitting)\n",
    "            let shrub = s |\u003e PlantIndividual.toCumulativeGrowth\n",
    "            let common = shrub |\u003e PlantIndividual.keepCommonYears\n",
    "            let startDate = (common.Environment.[(code \"N\").Value]).StartDate |\u003e snd\n",
    "            let startConditions = startValues startDate shrub\n",
    "\n",
    "            let e =\n",
    "                engine\n",
    "                |\u003e Bristlecone.withConditioning (Bristlecone.Conditioning.Custom startConditions)\n",
    "\n",
    "            let result =\n",
    "                Bristlecone.oneStepAhead e h.Model preTransform (Bristlecone.fromDendro common) (mle |\u003e snd |\u003e snd)\n",
    "\n",
    "            // Save each n-step ahead result to a csv file\n",
    "            Bristlecone.Data.NStepAhead.save\n",
    "                Config.resultsDirectory\n",
    "                s.Identifier.Value\n",
    "                h.ReferenceCode\n",
    "                (mle |\u003e fst)\n",
    "                1\n",
    "                result\n",
    "\n",
    "            s.Identifier.Value, h.ReferenceCode, result)\n",
    "\n",
    "    Bristlecone.Data.NStepAhead.saveAllRMSE Config.resultsDirectory oneStepPredictions\n",
    "\n",
    "    ()\n"
   ]
  }
 ],
 "metadata": {
  "kernelspec": {
   "display_name": ".NET (F#)",
   "language": "F#",
   "name": ".net-fsharp"
  },
  "language_info": {
   "file_extension": ".fs",
   "mimetype": "text/x-fsharp",
   "name": "polyglot-notebook",
   "pygments_lexer": "fsharp"
  },
  "polyglot_notebook": {
   "kernelInfo": {
    "defaultKernelName": "fsharp",
    "items": [
     {
      "aliases": [],
      "languageName": "fsharp",
      "name": "fsharp"
     }
    ]
   }
  }
 },
 "nbformat": 4,
 "nbformat_minor": 2
}

