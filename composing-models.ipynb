
{
 "cells": [
  {
   "cell_type": "markdown",
   "metadata": {},
   
   "source": [
    
   ]
  }
,
  {
   "cell_type": "code",
   "metadata": {
    "dotnet_interactive": {
     "language": "fsharp"
    },
    "polyglot_notebook": {
     "kernelName": "fsharp"
    }
   },
   "execution_count": null, "outputs": [],
   "source": [
    "#r \"nuget: Bristlecone,2.0.0\"\n"
   ]
  }
,
  {
   "cell_type": "markdown",
   "metadata": {},
   
   "source": [
    "# Composing model parts together\n",
    "\n",
    "Bristlecone has been designed to enable swift **model composition**, whereby\n",
    "smaller models may be composed into larger systems of models.\n",
    "\n",
    "To get started, open the Bristlecone libraries.\n",
    "\n"
   ]
  }
,
  {
   "cell_type": "code",
   "metadata": {
    "dotnet_interactive": {
     "language": "fsharp"
    },
    "polyglot_notebook": {
     "kernelName": "fsharp"
    }
   },
   "execution_count": 2, "outputs": [],
   "source": [
    "open Bristlecone // Opens Bristlecone core library and estimation engine\n",
    "open Bristlecone.Language // Open the language for writing Bristlecone models\n"
   ]
  }
,
  {
   "cell_type": "markdown",
   "metadata": {},
   
   "source": [
    "### Nested model systems\n",
    "\n",
    "One key use of compositional modelling is to understand which (ecological) theories\n",
    "best represent one or many particular time-series data. A **nested model** is one where\n",
    "one or more processes may be substituted for different theoretical forms and competed\n",
    "to determine which combination of model components best represents the given data.\n",
    "\n",
    "Using Bristlecone, we can simply define a nested model as a Bristlecone model but where\n",
    "the definition takes some additional model components as function parameters. For example,\n",
    "take the following model:\n",
    "\n"
   ]
  }
,
  {
   "cell_type": "code",
   "metadata": {
    "dotnet_interactive": {
     "language": "fsharp"
    },
    "polyglot_notebook": {
     "kernelName": "fsharp"
    }
   },
   "execution_count": 3, "outputs": [],
   "source": [
    "let someModel someFn =\n",
    "    Parameter \"K\" + someFn This - Environment \"T\" * Parameter \"J\"\n"
   ]
  }
,
  {
   "cell_type": "markdown",
   "metadata": {},
   
   "source": [
    "In the above expression, `someFn` is a function of signature `ModelExpression -\u003e ModelExpression`.\n",
    "Looking at the equation, you can see that `someFn` takes one argument, the model expression\n",
    "`This`, which represents the current state of the model equation.\n",
    "\n",
    "We can take this concept further to define a **nestable model**, in which a number of components\n",
    "may be swapped for alternative mathematical forms based on (ecological) theory. Here, we will\n",
    "apply a simple model of non-linear plant growth. To do this, we\n",
    "first define a base model as a `ModelSystem` that takes a number of interchangable components:\n",
    "\n"
   ]
  }
,
  {
   "cell_type": "code",
   "metadata": {
    "dotnet_interactive": {
     "language": "fsharp"
    },
    "polyglot_notebook": {
     "kernelName": "fsharp"
    }
   },
   "execution_count": 4, "outputs": [],
   "source": [
    "let baseModel growthLimit lossRate =\n",
    "    Model.empty\n",
    "    |\u003e Model.addEquation \"m\" (Parameter \"r\" * (growthLimit This) - lossRate This)\n",
    "    |\u003e Model.estimateParameter \"r\" noConstraints 0.01 1.00\n",
    "    |\u003e Model.useLikelihoodFunction (ModelLibrary.Likelihood.sumOfSquares [ \"x\" ])\n"
   ]
  }
,
  {
   "cell_type": "markdown",
   "metadata": {},
   
   "source": [
    "Importantly, unlike when normally building models, we do not call `Model.compile` at the end.\n",
    "This step will be done later.\n",
    "\n",
    "We can then design the growth limit and loss rate components that will fit into this model.\n",
    "These are made using the `modelComponent` and `subComponent` functions as follows:\n",
    "\n"
   ]
  }
,
  {
   "cell_type": "code",
   "metadata": {
    "dotnet_interactive": {
     "language": "fsharp"
    },
    "polyglot_notebook": {
     "kernelName": "fsharp"
    }
   },
   "execution_count": 5, "outputs": [],
   "source": [
    "let growthLimit =\n",
    "    modelComponent\n",
    "        \"Limitation to growth\"\n",
    "        [\n",
    "\n",
    "          subComponent \"Linear\" (fun _ -\u003e Constant 1.)\n",
    "\n",
    "          subComponent \"Monomolecular\" (fun m -\u003e Parameter \"K\" - m)\n",
    "          |\u003e estimateParameter \"K\" notNegative 10.0 50.0\n",
    "\n",
    "          subComponent \"Gompertz\" (fun m -\u003e m * log (Parameter \"K\" / m))\n",
    "          |\u003e estimateParameter \"K\" notNegative 10.0 50.0\n",
    "\n",
    "          subComponent \"Logisitc (three parameter)\" (fun m -\u003e m * (Constant 1. - (m / Parameter \"K\")))\n",
    "          |\u003e estimateParameter \"K\" notNegative 10.0 50.0 ]\n"
   ]
  }
,
  {
   "cell_type": "markdown",
   "metadata": {},
   
   "source": [
    "If a component requires additional parameters over the base model, these may be added by piping into\n",
    "the `estimateParameter` function as above.\n",
    "\n",
    "We can similarly define the other required component for the base model - the loss rate:\n",
    "\n"
   ]
  }
,
  {
   "cell_type": "code",
   "metadata": {
    "dotnet_interactive": {
     "language": "fsharp"
    },
    "polyglot_notebook": {
     "kernelName": "fsharp"
    }
   },
   "execution_count": 6, "outputs": [],
   "source": [
    "let lossRate =\n",
    "    modelComponent\n",
    "        \"Biomass loss rate\"\n",
    "        [\n",
    "\n",
    "          subComponent \"None\" (fun _ -\u003e Constant 0.)\n",
    "\n",
    "          subComponent \"Density-dependent\" (fun m -\u003e m * Parameter \"alpha\")\n",
    "          |\u003e estimateParameter \"alpha\" notNegative 0.001 0.10 ]\n"
   ]
  }
,
  {
   "cell_type": "markdown",
   "metadata": {},
   
   "source": [
    "Once the components are set up, we can compile the nested model by making all possible\n",
    "combinations of the model components. We do this using the `Hypotheses` module, which will\n",
    "compile a list of model hypotheses for us to test.\n",
    "\n"
   ]
  }
,
  {
   "cell_type": "code",
   "metadata": {
    "dotnet_interactive": {
     "language": "fsharp"
    },
    "polyglot_notebook": {
     "kernelName": "fsharp"
    }
   },
   "execution_count": 7, "outputs": [],
   "source": [
    "let hypotheses =\n",
    "    baseModel\n",
    "    |\u003e Hypotheses.createFromComponent growthLimit\n",
    "    |\u003e Hypotheses.useAnother lossRate\n",
    "    |\u003e Hypotheses.compile\n"
   ]
  }
,
  {
   "cell_type": "markdown",
   "metadata": {},
   
   "source": [
    "The resultant constructed hypotheses are shown in the following printout:\n",
    "\n",
    "```\n",
    "[Hypothesis\n",
    "   ({ Parameters =\n",
    "       Pool\n",
    "         (map\n",
    "            [(ShortCode \"r\",\n",
    "              Parameter (Unconstrained, Transform, NotEstimated (0.01, 1.0)))])\n",
    "      Equations = map [(ShortCode \"m\", \u003cfun:Invoke@3682-2\u003e)]\n",
    "      Measures = map []\n",
    "      NegLogLikelihood = \u003cfun:baseModel@5\u003e },\n",
    "    [{ Component = \"Limitation to growth\"\n",
    "       Implementation = \"Linear\" }; { Component = \"Biomass loss rate\"\n",
    "                                      Implementation = \"None\" }]);\n",
    " Hypothesis\n",
    "   ({ Parameters =\n",
    "       Pool\n",
    "         (map\n",
    "            [(ShortCode \"K\",\n",
    "              Parameter (PositiveOnly, Transform, NotEstimated (10.0, 50.0)));\n",
    "             (ShortCode \"r\",\n",
    "              Parameter (Unconstrained, Transform, NotEstimated (0.01, 1.0)))])\n",
    "      Equations = map [(ShortCode \"m\", \u003cfun:Invoke@3682-2\u003e)]\n",
    "      Measures = map []\n",
    "      NegLogLikelihood = \u003cfun:baseModel@5\u003e },\n",
    "    [{ Component = \"Limitation to growth\"\n",
    "       Implementation = \"Monomolecular\" }; { Component = \"Biomass loss rate\"\n",
    "                                             Implementation = \"None\" }]);\n",
    " Hypothesis\n",
    "   ({ Parameters =\n",
    "       Pool\n",
    "         (map\n",
    "            [(ShortCode \"K\",\n",
    "              Parameter (PositiveOnly, Transform, NotEstimated (10.0, 50.0)));\n",
    "             (ShortCode \"r\",\n",
    "              Parameter (Unconstrained, Transform, NotEstimated (0.01, 1.0)))])\n",
    "      Equations = map [(ShortCode \"m\", \u003cfun:Invoke@3682-2\u003e)]\n",
    "      Measures = map []\n",
    "      NegLogLikelihood = \u003cfun:baseModel@5\u003e },\n",
    "    [{ Component = \"Limitation to growth\"\n",
    "       Implementation = \"Gompertz\" }; { Component = \"Biomass loss rate\"\n",
    "                                        Implementation = \"None\" }]);\n",
    " Hypothesis\n",
    "   ({ Parameters =\n",
    "       Pool\n",
    "         (map\n",
    "            [(ShortCode \"K\",\n",
    "              Parameter (PositiveOnly, Transform, NotEstimated (10.0, 50.0)));\n",
    "             (ShortCode \"r\",\n",
    "              Parameter (Unconstrained, Transform, NotEstimated (0.01, 1.0)))])\n",
    "      Equations = map [(ShortCode \"m\", \u003cfun:Invoke@3682-2\u003e)]\n",
    "      Measures = map []\n",
    "      NegLogLikelihood = \u003cfun:baseModel@5\u003e },\n",
    "    [{ Component = \"Limitation to growth\"\n",
    "       Implementation = \"Logisitc (three parameter)\" };\n",
    "     { Component = \"Biomass loss rate\"\n",
    "       Implementation = \"None\" }]);\n",
    " Hypothesis\n",
    "   ({ Parameters =\n",
    "       Pool\n",
    "         (map\n",
    "            [(ShortCode \"alpha\",\n",
    "              Parameter (PositiveOnly, Transform, NotEstimated (0.001, 0.1)));\n",
    "             (ShortCode \"r\",\n",
    "              Parameter (Unconstrained, Transform, NotEstimated (0.01, 1.0)))])\n",
    "      Equations = map [(ShortCode \"m\", \u003cfun:Invoke@3682-2\u003e)]\n",
    "      Measures = map []\n",
    "      NegLogLikelihood = \u003cfun:baseModel@5\u003e },\n",
    "    [{ Component = \"Limitation to growth\"\n",
    "       Implementation = \"Linear\" }; { Component = \"Biomass loss rate\"\n",
    "                                      Implementation = \"Density-dependent\" }]);\n",
    " Hypothesis\n",
    "   ({ Parameters =\n",
    "       Pool\n",
    "         (map\n",
    "            [(ShortCode \"K\",\n",
    "              Parameter (PositiveOnly, Transform, NotEstimated (10.0, 50.0)));\n",
    "             (ShortCode \"alpha\",\n",
    "              Parameter (PositiveOnly, Transform, NotEstimated (0.001, 0.1)));\n",
    "             (ShortCode \"r\",\n",
    "              Parameter (Unconstrained, Transform, NotEstimated (0.01, 1.0)))])\n",
    "      Equations = map [(ShortCode \"m\", \u003cfun:Invoke@3682-2\u003e)]\n",
    "      Measures = map []\n",
    "      NegLogLikelihood = \u003cfun:baseModel@5\u003e },\n",
    "    [{ Component = \"Limitation to growth\"\n",
    "       Implementation = \"Monomolecular\" };\n",
    "     { Component = \"Biomass loss rate\"\n",
    "       Implementation = \"Density-dependent\" }]);\n",
    " Hypothesis\n",
    "   ({ Parameters =\n",
    "       Pool\n",
    "         (map\n",
    "            [(ShortCode \"K\",\n",
    "              Parameter (PositiveOnly, Transform, NotEstimated (10.0, 50.0)));\n",
    "             (ShortCode \"alpha\",\n",
    "              Parameter (PositiveOnly, Transform, NotEstimated (0.001, 0.1)));\n",
    "             (ShortCode \"r\",\n",
    "              Parameter (Unconstrained, Transform, NotEstimated (0.01, 1.0)))])\n",
    "      Equations = map [(ShortCode \"m\", \u003cfun:Invoke@3682-2\u003e)]\n",
    "      Measures = map []\n",
    "      NegLogLikelihood = \u003cfun:baseModel@5\u003e },\n",
    "    [{ Component = \"Limitation to growth\"\n",
    "       Implementation = \"Gompertz\" }; { Component = \"Biomass loss rate\"\n",
    "                                        Implementation = \"Density-dependent\" }]);\n",
    " Hypothesis\n",
    "   ({ Parameters =\n",
    "       Pool\n",
    "         (map\n",
    "            [(ShortCode \"K\",\n",
    "              Parameter (PositiveOnly, Transform, NotEstimated (10.0, 50.0)));\n",
    "             (ShortCode \"alpha\",\n",
    "              Parameter (PositiveOnly, Transform, NotEstimated (0.001, 0.1)));\n",
    "             (ShortCode \"r\",\n",
    "              Parameter (Unconstrained, Transform, NotEstimated (0.01, 1.0)))])\n",
    "      Equations = map [(ShortCode \"m\", \u003cfun:Invoke@3682-2\u003e)]\n",
    "      Measures = map []\n",
    "      NegLogLikelihood = \u003cfun:baseModel@5\u003e },\n",
    "    [{ Component = \"Limitation to growth\"\n",
    "       Implementation = \"Logisitc (three parameter)\" };\n",
    "     { Component = \"Biomass loss rate\"\n",
    "       Implementation = \"Density-dependent\" }])]\n",
    "```\n",
    "\n",
    "For further analysis, you may choose to use the orchestration functionality to\n",
    "run many hypotheses and replicates (multiple fits per hypothesis) in parallel.\n",
    "\n"
   ]
  }
 ],
 "metadata": {
  "kernelspec": {
   "display_name": ".NET (F#)",
   "language": "F#",
   "name": ".net-fsharp"
  },
  "language_info": {
   "file_extension": ".fs",
   "mimetype": "text/x-fsharp",
   "name": "polyglot-notebook",
   "pygments_lexer": "fsharp"
  },
  "polyglot_notebook": {
   "kernelInfo": {
    "defaultKernelName": "fsharp",
    "items": [
     {
      "aliases": [],
      "languageName": "fsharp",
      "name": "fsharp"
     }
    ]
   }
  }
 },
 "nbformat": 4,
 "nbformat_minor": 2
}

