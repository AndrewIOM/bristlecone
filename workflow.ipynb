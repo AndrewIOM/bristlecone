
{
 "cells": [
  {
   "cell_type": "markdown",
   "metadata": {},
   
   "source": [
    "[![Script](https://acm.im/bristlecone//img/badge-script.svg)](https://acm.im/bristlecone//workflow.fsx)\u0026emsp;\n",
    "[![Notebook](https://acm.im/bristlecone//img/badge-notebook.svg)](https://acm.im/bristlecone//workflow.ipynb)\n",
    "\n"
   ]
  }
,
  {
   "cell_type": "code",
   "metadata": {
    "dotnet_interactive": {
     "language": "fsharp"
    },
    "polyglot_notebook": {
     "kernelName": "fsharp"
    }
   },
   "execution_count": null, "outputs": [],
   "source": [
    "#r \"nuget: Bristlecone,2.0.0\"\n"
   ]
  }
,
  {
   "cell_type": "markdown",
   "metadata": {},
   
   "source": [
    "# Techniques: Ensembles and Parallel Processing\n",
    "\n",
    "Model-fitting and model-selection usually requires running\n",
    "multiple model runs, for multiple hypotheses, and sometimes\n",
    "for multiple datasets, resulting in hundreds of individual\n",
    "model runs.\n",
    "\n",
    "Bristlecone includes capabilities to orchestrate the parallel\n",
    "running of such complex analyses within the\n",
    "`Bristlecone.Workflow` namespace. Using Bristlecone\u0027s\n",
    "`OrchestrationAgent`, you can queue jobs to run when processor\n",
    "cores are available.\n",
    "\n",
    "### Work Packages\n",
    "\n",
    "To run your analyses in parallel, you must wrap up each analysis\n",
    "as a **work package**. A **work package** is simply an async computation\n",
    "that returns an estimation result, with the function signature\n",
    "`Async\u003cModelSystem.EstimationResult\u003e`. A simple example function to\n",
    "setup work packages for a number of datasets, hypotheses, and individuals\n",
    "is given below:\n",
    "\n"
   ]
  }
,
  {
   "cell_type": "code",
   "metadata": {
    "dotnet_interactive": {
     "language": "fsharp"
    },
    "polyglot_notebook": {
     "kernelName": "fsharp"
    }
   },
   "execution_count": 2, "outputs": [],
   "source": [
    "open Bristlecone\n",
    "\n",
    "let replicates = 3 // number of replications per analysis\n",
    "let endCondition = Optimisation.EndConditions.afterIteration 100000\n",
    "\n",
    "let workPackages datasets hypotheses engine =\n",
    "    seq {\n",
    "        for d in datasets do\n",
    "            for h in [ 1 .. hypotheses |\u003e List.length ] do\n",
    "                for _ in [ 1..replicates ] do\n",
    "                    yield async { return Bristlecone.fit engine endCondition d hypotheses.[h - 1] }\n",
    "    }\n"
   ]
  }
,
  {
   "cell_type": "markdown",
   "metadata": {},
   
   "source": [
    "You can perform any additional steps within each work package. A common\n",
    "approach is to save each model result to disk (i.e., using functions from\n",
    "the `Bristlecone.Data` namespace) within the async\n",
    "block in the above code, so that results are available as soon as\n",
    "they are complete.\n",
    "\n",
    "When the `EstimationEngine`, datasets, and hypotheses are\n",
    "applied to this function, the resultant `seq\u003cAsync\u003cEstimationResult\u003e\u003e`\n",
    "can be passed to an orchestration agent.\n",
    "\n",
    "### Orchestration Agent\n",
    "\n",
    "An orchestration agent manages the running of work packages depending on\n",
    "your local computer\u0027s resources. You can access these features through the following\n",
    "namespace:\n",
    "\n"
   ]
  }
,
  {
   "cell_type": "code",
   "metadata": {
    "dotnet_interactive": {
     "language": "fsharp"
    },
    "polyglot_notebook": {
     "kernelName": "fsharp"
    }
   },
   "execution_count": 3, "outputs": [],
   "source": [
    "open Bristlecone.Workflow\n"
   ]
  }
,
  {
   "cell_type": "markdown",
   "metadata": {},
   
   "source": [
    "There are three arguments required to create an `OrchestrationAgent`:\n",
    "\n",
    "* A **logger** (`LogEvent -\u003e unit`), which consumes log messages from all threads. You\n",
    "must ensure that the logger is safe to use from multiple processes. Bristlecone\n",
    "includes some loggers that are thread-safe. In addition, the `Bristlecone.Charts.R`\n",
    "NuGet package contains interoperability with R to produce real-time traces of the movement\n",
    "of each analysis through parameter space; this is very useful for example\n",
    "with MCMC optimisation techniques to compare chains.\n",
    "  \n",
    "\n",
    "* The **number of processes to run in parallel**. The recommended approach is to set\n",
    "this to `System.Environment.ProcessorCount`, which represents the number of cores\n",
    "available on your system.\n",
    "  \n",
    "\n",
    "* Whether to **cache results in the resultant object**. This increases memory usage, but allows\n",
    "post-hoc analysis of the results. A common approach is to set this to `false` but save each\n",
    "result to disk within the work package itself (see above). The results\n",
    "can then be re-loaded at a later date for diagnostics and further analysis.\n",
    "  \n",
    "\n",
    "First, let\u0027s use one of Bristlecone\u0027s built-in loggers to print the progress of each\n",
    "work package:\n",
    "\n"
   ]
  }
,
  {
   "cell_type": "code",
   "metadata": {
    "dotnet_interactive": {
     "language": "fsharp"
    },
    "polyglot_notebook": {
     "kernelName": "fsharp"
    }
   },
   "execution_count": 4, "outputs": [],
   "source": [
    "let logger = Logging.Console.logger 1000\n"
   ]
  }
,
  {
   "cell_type": "markdown",
   "metadata": {},
   
   "source": [
    "This logger will print the current point in parameter space each thousand\n",
    "iteration, for each chain (along with process IDs). Next, let\u0027s create and setup\n",
    "the orchestration agent:\n",
    "\n"
   ]
  }
,
  {
   "cell_type": "code",
   "metadata": {
    "dotnet_interactive": {
     "language": "fsharp"
    },
    "polyglot_notebook": {
     "kernelName": "fsharp"
    }
   },
   "execution_count": 5, "outputs": [],
   "source": [
    "let orchestrator =\n",
    "    Orchestration.OrchestrationAgent(logger, System.Environment.ProcessorCount, false)\n",
    "\n",
    "fun datasets hypotheses engine -\u003e\n",
    "\n",
    "    // Orchestrate the analyses\n",
    "    let work = workPackages datasets hypotheses engine\n",
    "\n",
    "    let run () =\n",
    "        work\n",
    "        |\u003e Seq.iter (Orchestration.OrchestrationMessage.StartWorkPackage \u003e\u003e orchestrator.Post)\n",
    "\n",
    "    run ()\n"
   ]
  }
,
  {
   "cell_type": "markdown",
   "metadata": {},
   
   "source": [
    "If the above code is supplied with datasets, hypotheses, and an\n",
    "`EstimationEngine`, it will schedule, queue and run the jobs until complete.\n",
    "\n"
   ]
  }
 ],
 "metadata": {
  "kernelspec": {
   "display_name": ".NET (F#)",
   "language": "F#",
   "name": ".net-fsharp"
  },
  "language_info": {
   "file_extension": ".fs",
   "mimetype": "text/x-fsharp",
   "name": "polyglot-notebook",
   "pygments_lexer": "fsharp"
  },
  "polyglot_notebook": {
   "kernelInfo": {
    "defaultKernelName": "fsharp",
    "items": [
     {
      "aliases": [],
      "languageName": "fsharp",
      "name": "fsharp"
     }
    ]
   }
  }
 },
 "nbformat": 4,
 "nbformat_minor": 2
}

