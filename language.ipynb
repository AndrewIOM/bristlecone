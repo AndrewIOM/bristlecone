
{
 "cells": [
  {
   "cell_type": "markdown",
   "metadata": {},
   
   "source": [
    "[![Script](https://acm.im/bristlecone//img/badge-script.svg)](https://acm.im/bristlecone//language.fsx)\u0026emsp;\n",
    "[![Notebook](https://acm.im/bristlecone//img/badge-notebook.svg)](https://acm.im/bristlecone//language.ipynb)\n",
    "\n"
   ]
  }
,
  {
   "cell_type": "code",
   "metadata": {
    "dotnet_interactive": {
     "language": "fsharp"
    },
    "polyglot_notebook": {
     "kernelName": "fsharp"
    }
   },
   "execution_count": null, "outputs": [],
   "source": [
    "#r \"nuget: Bristlecone,2.0.0\"\n"
   ]
  }
,
  {
   "cell_type": "markdown",
   "metadata": {},
   
   "source": [
    "# The Bristlecone Language: Writing Models\n",
    "\n",
    "Bristlecone includes a language for expressing mathematical models, and combining\n",
    "these to form hypotheses for testing. You can use the language by opening it\u0027s\n",
    "namespace:\n",
    "\n"
   ]
  }
,
  {
   "cell_type": "code",
   "metadata": {
    "dotnet_interactive": {
     "language": "fsharp"
    },
    "polyglot_notebook": {
     "kernelName": "fsharp"
    }
   },
   "execution_count": 2, "outputs": [],
   "source": [
    "open Bristlecone // Opens Bristlecone core library and estimation engine\n",
    "open Bristlecone.Language // Open the language for writing Bristlecone models\n"
   ]
  }
,
  {
   "cell_type": "markdown",
   "metadata": {},
   
   "source": [
    "## Writing mathematical expressions\n",
    "\n",
    "In Bristlecone, mathematical expressions to be used within\n",
    "a model may be written using simple terms. Consider the following\n",
    "example of an ordinary differential equation of logistic growth:\n",
    "\n"
   ]
  }
,
  {
   "cell_type": "code",
   "metadata": {
    "dotnet_interactive": {
     "language": "fsharp"
    },
    "polyglot_notebook": {
     "kernelName": "fsharp"
    }
   },
   "execution_count": 3, "outputs": [],
   "source": [
    "let dNdt = Parameter \"r\" * This * (Constant 1. - (This / Parameter \"K\"))\n"
   ]
  }
,
  {
   "cell_type": "markdown",
   "metadata": {},
   
   "source": [
    "Here, we have used the following model expressions:\n",
    "\n",
    "* `This` - the subject of the equation, which in this\n",
    "case is **N**, the population size.\n",
    "  \n",
    "\n",
    "* `Parameter` - an estimatable parameter followed by its name. Here, we have\n",
    "defined two parameters:\n",
    "  \n",
    "\n",
    "  * `Paramater \"r\"` - the intrinsic growth rate of the population;\n",
    "    \n",
    "  \n",
    "  * `Parameter \"K\"` - the **carrying capacity** of the population.\n",
    "    \n",
    "  \n",
    "\n",
    "* `Constant` - a fixed parameter or constant value within an equation.\n",
    "  \n",
    "\n",
    "You can use all standard mathematical operators `* / + - % **` to build your model.\n",
    "There are additional model expressions that may be used to build up more complex\n",
    "expressions (which are defined in the `ModelExpression` discriminated union).\n",
    "\n",
    "## Additional model expressions\n",
    "\n",
    "### Time-varying parameters\n",
    "\n",
    "Often, a time-series model needs to take account of environmental\n",
    "variability. For example, changes in temperature and precipitation\n",
    "may influence the growth rate of a plant over time. Bristlecone supports\n",
    "time-varying parameters in equations using the form:\n",
    "\n"
   ]
  }
,
  {
   "cell_type": "code",
   "metadata": {
    "dotnet_interactive": {
     "language": "fsharp"
    },
    "polyglot_notebook": {
     "kernelName": "fsharp"
    }
   },
   "execution_count": 4, "outputs": [],
   "source": [
    "Environment \"T[min]\"\n"
   ]
  }
,
  {
   "cell_type": "markdown",
   "metadata": {},
   
   "source": [
    "Here, we have defined the minimum temperature (**T[min]()**) as a time-varying (or environment) parameter.\n",
    "Unlike `Paramater` items, **T[min]()** will not be estimated during model-fitting, but\n",
    "will be read from the environmental properties for the appropriate time interval.\n",
    "\n",
    "### Conditional\n",
    "\n",
    "You can define a conditional model fragment by using the\n",
    "`Conditional` term. A `Conditional` model expression takes a function\n",
    "with one argument - a function that represents the future\n",
    "computation of the model expression (`compute` -\n",
    "with signature `ModelExpression -\u003e float`). Within this function,\n",
    "you can then evaluate the answer of any model expressions\n",
    "by passing them as the argument to the `compute` function.\n",
    "Please see the below example:\n",
    "\n"
   ]
  }
,
  {
   "cell_type": "code",
   "metadata": {
    "dotnet_interactive": {
     "language": "fsharp"
    },
    "polyglot_notebook": {
     "kernelName": "fsharp"
    }
   },
   "execution_count": 5, "outputs": [],
   "source": [
    "let linear =\n",
    "    Conditional(fun compute -\u003e\n",
    "        if compute (Parameter \"a\" * Constant 5.) \u003c 1e-12 then\n",
    "            Invalid\n",
    "        else\n",
    "            Parameter \"a\" * This)\n"
   ]
  }
,
  {
   "cell_type": "markdown",
   "metadata": {},
   
   "source": [
    "In this example, the function is limited such that\n",
    "the combination of parameter value **a** with a theoretical\n",
    "value of **This** at 5.0 cannot result in an answer that is\n",
    "less than 1e-12. If this is the case, the result of the\n",
    "model is `Invalid`.\n",
    "\n",
    "### Invalid\n",
    "\n",
    "The `Invalid` keyword is useful in combination with the\n",
    "`Conditional` keyword, as demonstrated above. When any model expression\n",
    "returns `Invalid`, the model fails. During optimisation, this is useful\n",
    "to constrain the search within parameter space to values that do not\n",
    "tend to infinity, or where values may be theoretically implausable.\n",
    "\n",
    "### Arbitrary\n",
    "\n",
    "Sometimes, a complex sub-model may need to be inserted where you\n",
    "do not wish to rewrite it into the Bristlecone language. You may also\n",
    "not have access to the original source, or be calling from an external\n",
    "library. In these cases, you can use the `Arbitrary` model expression\n",
    "to wrap the function for Bristlecone. Helper functions are included\n",
    "to simplify this process within the `Arbitrary` module:\n",
    "\n"
   ]
  }
,
  {
   "cell_type": "code",
   "metadata": {
    "dotnet_interactive": {
     "language": "fsharp"
    },
    "polyglot_notebook": {
     "kernelName": "fsharp"
    }
   },
   "execution_count": 6, "outputs": [],
   "source": [
    "/// x: population size\n",
    "/// t: current time\n",
    "/// z: some environmental value\n",
    "let someArbitraryFn x t z = x + t * 1.0 - z\n",
    "\n",
    "// TODO Insert example here\n"
   ]
  }
,
  {
   "cell_type": "markdown",
   "metadata": {},
   
   "source": [
    "### Time\n",
    "\n",
    "The `Time` keyword simply retrives the current time index; as such, it\n",
    "can be used to formulate time-dependent models.\n",
    "\n"
   ]
  }
 ],
 "metadata": {
  "kernelspec": {
   "display_name": ".NET (F#)",
   "language": "F#",
   "name": ".net-fsharp"
  },
  "language_info": {
   "file_extension": ".fs",
   "mimetype": "text/x-fsharp",
   "name": "polyglot-notebook",
   "pygments_lexer": "fsharp"
  },
  "polyglot_notebook": {
   "kernelInfo": {
    "defaultKernelName": "fsharp",
    "items": [
     {
      "aliases": [],
      "languageName": "fsharp",
      "name": "fsharp"
     }
    ]
   }
  }
 },
 "nbformat": 4,
 "nbformat_minor": 2
}

