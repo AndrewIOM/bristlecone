
{
 "cells": [
  {
   "cell_type": "markdown",
   "metadata": {},
   
   "source": [
    "[![Script](https://acm.im/bristlecone//img/badge-script.svg)](https://acm.im/bristlecone//integration.fsx)\u0026emsp;\n",
    "[![Notebook](https://acm.im/bristlecone//img/badge-notebook.svg)](https://acm.im/bristlecone//integration.ipynb)\n",
    "\n"
   ]
  }
,
  {
   "cell_type": "code",
   "metadata": {
    "dotnet_interactive": {
     "language": "fsharp"
    },
    "polyglot_notebook": {
     "kernelName": "fsharp"
    }
   },
   "execution_count": null, "outputs": [],
   "source": [
    "#r \"nuget: Bristlecone,2.0.0\"\n"
   ]
  }
,
  {
   "cell_type": "markdown",
   "metadata": {},
   
   "source": [
    "# Integration Methods\n",
    "\n",
    "Bristlecone supports model systems defined in discrete or continuous time.\n",
    "For continuous-time model systems - defined as ordinary differential\n",
    "equation(s) - Bristlecone applies numerical integration to calculate\n",
    "changes in the modelled properties through time.\n",
    "\n",
    "**Note. Currently only fixed timesteps are supported, but variable timestep support\n",
    "(e.g. for sediment core data) is planned for a future release.**\n",
    "\n",
    "### Included integration methods\n",
    "\n",
    "The following integration functions are included within the `Bristlecone.Integration` namespace:\n",
    "\n",
    "Solver | Function | Description\n",
    "--- | --- | ---\n",
    "Runge-Kutta 4 (MathNet Numerics) | `Integration.MathNet.integrate` | A fourth-order Runge Kutta method to provide approximate solutions to ODE systems.\n",
    "Runge-Kutta 547M (Open Solving Library for ODEs - Microsoft Research) | `Integration.MsftOslo.integrate` | A method based on classic Runge-Kutta, but with automatic error and step size control. [See the documentation](https://www.microsoft.com/en-us/research/wp-content/uploads/2014/07/osloUserGuide.pdf).\n",
    "\n",
    "\n",
    "### Adding a custom integration method\n",
    "\n",
    "You can add a custom integration routine by wrapping your integration\n",
    "function to match the `EstimationEngine.Integration` type signature as follows:\n",
    "\n"
   ]
  }
,
  {
   "cell_type": "code",
   "metadata": {
    "dotnet_interactive": {
     "language": "fsharp"
    },
    "polyglot_notebook": {
     "kernelName": "fsharp"
    }
   },
   "execution_count": 2, "outputs": [],
   "source": [
    "open Bristlecone\n",
    "\n",
    "let myCustomIntegrator: EstimationEngine.Integrate\u003c\u0027data, \u0027time\u003e =\n",
    "    fun writeOut tInitial tEnd tStep initialConditions externalEnvironment model -\u003e\n",
    "        invalidOp \"Doesn\u0027t actually do anything!\"\n",
    "\n",
    "let engine =\n",
    "    Bristlecone.mkContinuous |\u003e Bristlecone.withContinuousTime myCustomIntegrator\n"
   ]
  }
,
  {
   "cell_type": "markdown",
   "metadata": {},
   
   "source": [
    "When defining a custom integration routine, you may wish to use the\n",
    "`Base.solve` function from the `Bristlecone.Integration` namespace.\n",
    "This is used to arrange the equations into a form suitable for a\n",
    "simple integration routine.\n",
    "\n"
   ]
  }
 ],
 "metadata": {
  "kernelspec": {
   "display_name": ".NET (F#)",
   "language": "F#",
   "name": ".net-fsharp"
  },
  "language_info": {
   "file_extension": ".fs",
   "mimetype": "text/x-fsharp",
   "name": "polyglot-notebook",
   "pygments_lexer": "fsharp"
  },
  "polyglot_notebook": {
   "kernelInfo": {
    "defaultKernelName": "fsharp",
    "items": [
     {
      "aliases": [],
      "languageName": "fsharp",
      "name": "fsharp"
     }
    ]
   }
  }
 },
 "nbformat": 4,
 "nbformat_minor": 2
}

